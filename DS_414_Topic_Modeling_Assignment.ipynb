{
  "nbformat": 4,
  "nbformat_minor": 0,
  "metadata": {
    "kernelspec": {
      "name": "python3",
      "display_name": "Python 3"
    },
    "colab": {
      "name": "DS_414_Topic_Modeling_Assignment.ipynb",
      "provenance": []
    },
    "language_info": {
      "name": "python"
    },
    "accelerator": "GPU"
  },
  "cells": [
    {
      "cell_type": "markdown",
      "metadata": {
        "id": "5utTU63WzGd3"
      },
      "source": [
        "# Topic Modeling\n",
        "## *Data Science Unit 4 Sprint 1 Assignment 4*\n",
        "\n",
        "\n",
        "![](https://drive.google.com/uc?export=view&id=1Aze8Xe_ZZpV22IwFNUH09T2howHmF1AK)\n",
        "\n",
        "[Image Credit: slides from Ben Mabey](https://speakerdeck.com/bmabey/visualizing-topic-models)\n",
        "\n",
        "Apply Topic Modeling to Analyze a corpus of Amazon reviews\n",
        "\n",
        "- Load in the Amazon Review dataset\n",
        "- Clean the dataset\n",
        "- Vectorize the dataset\n",
        "- Fit a Gensim LDA topic model on Amazon Reviews\n",
        "- Select appropriate number of topics\n",
        "- Create some dope visualization of the topics\n",
        "- Write a few bullets on your findings in markdown at the end"
      ]
    },
    {
      "cell_type": "code",
      "metadata": {
        "colab": {
          "base_uri": "https://localhost:8080/",
          "height": 1000
        },
        "id": "X0x7DXmr8zYE",
        "outputId": "b3890ea8-314f-453f-a2c3-0c8911800c9a"
      },
      "source": [
        "!pip install pyLDAvis"
      ],
      "execution_count": 2,
      "outputs": [
        {
          "output_type": "stream",
          "name": "stdout",
          "text": [
            "Collecting pyLDAvis\n",
            "  Downloading pyLDAvis-3.4.1-py3-none-any.whl.metadata (4.2 kB)\n",
            "Requirement already satisfied: numpy>=1.24.2 in /usr/local/lib/python3.12/dist-packages (from pyLDAvis) (2.0.2)\n",
            "Requirement already satisfied: scipy in /usr/local/lib/python3.12/dist-packages (from pyLDAvis) (1.16.1)\n",
            "Requirement already satisfied: pandas>=2.0.0 in /usr/local/lib/python3.12/dist-packages (from pyLDAvis) (2.2.2)\n",
            "Requirement already satisfied: joblib>=1.2.0 in /usr/local/lib/python3.12/dist-packages (from pyLDAvis) (1.5.2)\n",
            "Requirement already satisfied: jinja2 in /usr/local/lib/python3.12/dist-packages (from pyLDAvis) (3.1.6)\n",
            "Requirement already satisfied: numexpr in /usr/local/lib/python3.12/dist-packages (from pyLDAvis) (2.11.0)\n",
            "Collecting funcy (from pyLDAvis)\n",
            "  Using cached funcy-2.0-py2.py3-none-any.whl.metadata (5.9 kB)\n",
            "Requirement already satisfied: scikit-learn>=1.0.0 in /usr/local/lib/python3.12/dist-packages (from pyLDAvis) (1.6.1)\n",
            "Collecting gensim (from pyLDAvis)\n",
            "  Downloading gensim-4.3.3-cp312-cp312-manylinux_2_17_x86_64.manylinux2014_x86_64.whl.metadata (8.1 kB)\n",
            "Requirement already satisfied: setuptools in /usr/local/lib/python3.12/dist-packages (from pyLDAvis) (75.2.0)\n",
            "Requirement already satisfied: python-dateutil>=2.8.2 in /usr/local/lib/python3.12/dist-packages (from pandas>=2.0.0->pyLDAvis) (2.9.0.post0)\n",
            "Requirement already satisfied: pytz>=2020.1 in /usr/local/lib/python3.12/dist-packages (from pandas>=2.0.0->pyLDAvis) (2025.2)\n",
            "Requirement already satisfied: tzdata>=2022.7 in /usr/local/lib/python3.12/dist-packages (from pandas>=2.0.0->pyLDAvis) (2025.2)\n",
            "Requirement already satisfied: threadpoolctl>=3.1.0 in /usr/local/lib/python3.12/dist-packages (from scikit-learn>=1.0.0->pyLDAvis) (3.6.0)\n",
            "Collecting numpy>=1.24.2 (from pyLDAvis)\n",
            "  Downloading numpy-1.26.4-cp312-cp312-manylinux_2_17_x86_64.manylinux2014_x86_64.whl.metadata (61 kB)\n",
            "\u001b[2K     \u001b[90m━━━━━━━━━━━━━━━━━━━━━━━━━━━━━━━━━━━━━━━━\u001b[0m \u001b[32m61.0/61.0 kB\u001b[0m \u001b[31m5.6 MB/s\u001b[0m eta \u001b[36m0:00:00\u001b[0m\n",
            "\u001b[?25hCollecting scipy (from pyLDAvis)\n",
            "  Downloading scipy-1.13.1-cp312-cp312-manylinux_2_17_x86_64.manylinux2014_x86_64.whl.metadata (60 kB)\n",
            "\u001b[2K     \u001b[90m━━━━━━━━━━━━━━━━━━━━━━━━━━━━━━━━━━━━━━━━\u001b[0m \u001b[32m60.6/60.6 kB\u001b[0m \u001b[31m5.9 MB/s\u001b[0m eta \u001b[36m0:00:00\u001b[0m\n",
            "\u001b[?25hRequirement already satisfied: smart-open>=1.8.1 in /usr/local/lib/python3.12/dist-packages (from gensim->pyLDAvis) (7.3.1)\n",
            "Requirement already satisfied: MarkupSafe>=2.0 in /usr/local/lib/python3.12/dist-packages (from jinja2->pyLDAvis) (3.0.2)\n",
            "Requirement already satisfied: six>=1.5 in /usr/local/lib/python3.12/dist-packages (from python-dateutil>=2.8.2->pandas>=2.0.0->pyLDAvis) (1.17.0)\n",
            "Requirement already satisfied: wrapt in /usr/local/lib/python3.12/dist-packages (from smart-open>=1.8.1->gensim->pyLDAvis) (1.17.3)\n",
            "Downloading pyLDAvis-3.4.1-py3-none-any.whl (2.6 MB)\n",
            "\u001b[2K   \u001b[90m━━━━━━━━━━━━━━━━━━━━━━━━━━━━━━━━━━━━━━━━\u001b[0m \u001b[32m2.6/2.6 MB\u001b[0m \u001b[31m67.1 MB/s\u001b[0m eta \u001b[36m0:00:00\u001b[0m\n",
            "\u001b[?25hDownloading funcy-2.0-py2.py3-none-any.whl (30 kB)\n",
            "Downloading gensim-4.3.3-cp312-cp312-manylinux_2_17_x86_64.manylinux2014_x86_64.whl (26.6 MB)\n",
            "\u001b[2K   \u001b[90m━━━━━━━━━━━━━━━━━━━━━━━━━━━━━━━━━━━━━━━━\u001b[0m \u001b[32m26.6/26.6 MB\u001b[0m \u001b[31m62.8 MB/s\u001b[0m eta \u001b[36m0:00:00\u001b[0m\n",
            "\u001b[?25hDownloading numpy-1.26.4-cp312-cp312-manylinux_2_17_x86_64.manylinux2014_x86_64.whl (18.0 MB)\n",
            "\u001b[2K   \u001b[90m━━━━━━━━━━━━━━━━━━━━━━━━━━━━━━━━━━━━━━━━\u001b[0m \u001b[32m18.0/18.0 MB\u001b[0m \u001b[31m111.1 MB/s\u001b[0m eta \u001b[36m0:00:00\u001b[0m\n",
            "\u001b[?25hDownloading scipy-1.13.1-cp312-cp312-manylinux_2_17_x86_64.manylinux2014_x86_64.whl (38.2 MB)\n",
            "\u001b[2K   \u001b[90m━━━━━━━━━━━━━━━━━━━━━━━━━━━━━━━━━━━━━━━━\u001b[0m \u001b[32m38.2/38.2 MB\u001b[0m \u001b[31m17.5 MB/s\u001b[0m eta \u001b[36m0:00:00\u001b[0m\n",
            "\u001b[?25hInstalling collected packages: funcy, numpy, scipy, gensim, pyLDAvis\n",
            "  Attempting uninstall: numpy\n",
            "    Found existing installation: numpy 2.0.2\n",
            "    Uninstalling numpy-2.0.2:\n",
            "      Successfully uninstalled numpy-2.0.2\n",
            "  Attempting uninstall: scipy\n",
            "    Found existing installation: scipy 1.16.1\n",
            "    Uninstalling scipy-1.16.1:\n",
            "      Successfully uninstalled scipy-1.16.1\n",
            "\u001b[31mERROR: pip's dependency resolver does not currently take into account all the packages that are installed. This behaviour is the source of the following dependency conflicts.\n",
            "opencv-contrib-python 4.12.0.88 requires numpy<2.3.0,>=2; python_version >= \"3.9\", but you have numpy 1.26.4 which is incompatible.\n",
            "thinc 8.3.6 requires numpy<3.0.0,>=2.0.0, but you have numpy 1.26.4 which is incompatible.\n",
            "opencv-python 4.12.0.88 requires numpy<2.3.0,>=2; python_version >= \"3.9\", but you have numpy 1.26.4 which is incompatible.\n",
            "tsfresh 0.21.1 requires scipy>=1.14.0; python_version >= \"3.10\", but you have scipy 1.13.1 which is incompatible.\n",
            "opencv-python-headless 4.12.0.88 requires numpy<2.3.0,>=2; python_version >= \"3.9\", but you have numpy 1.26.4 which is incompatible.\u001b[0m\u001b[31m\n",
            "\u001b[0mSuccessfully installed funcy-2.0 gensim-4.3.3 numpy-1.26.4 pyLDAvis-3.4.1 scipy-1.13.1\n"
          ]
        },
        {
          "output_type": "display_data",
          "data": {
            "application/vnd.colab-display-data+json": {
              "pip_warning": {
                "packages": [
                  "numpy",
                  "scipy"
                ]
              },
              "id": "801c7eef850045d78fd4da71d735ea6c"
            }
          },
          "metadata": {}
        }
      ]
    },
    {
      "cell_type": "code",
      "metadata": {
        "colab": {
          "base_uri": "https://localhost:8080/"
        },
        "id": "uQGwb9xbFKIr",
        "outputId": "dce500f6-ca3c-431d-9a90-38859ee2de43"
      },
      "source": [
        "!pip install pandarallel==1.4.8"
      ],
      "execution_count": 2,
      "outputs": [
        {
          "output_type": "stream",
          "name": "stdout",
          "text": [
            "Collecting pandarallel==1.4.8\n",
            "  Downloading pandarallel-1.4.8.tar.gz (14 kB)\n",
            "  Preparing metadata (setup.py) ... \u001b[?25l\u001b[?25hdone\n",
            "Requirement already satisfied: dill in /usr/local/lib/python3.12/dist-packages (from pandarallel==1.4.8) (0.3.8)\n",
            "Building wheels for collected packages: pandarallel\n",
            "  Building wheel for pandarallel (setup.py) ... \u001b[?25l\u001b[?25hdone\n",
            "  Created wheel for pandarallel: filename=pandarallel-1.4.8-py3-none-any.whl size=16095 sha256=54c36b40dca14ef90257534e38ecb26533a0af0ceaa30558621e01faa6418089\n",
            "  Stored in directory: /root/.cache/pip/wheels/f0/b0/f0/d762edb7f3ef76bdd9f1492b2542e9bb676ea1670b87cedf3b\n",
            "Successfully built pandarallel\n",
            "Installing collected packages: pandarallel\n",
            "Successfully installed pandarallel-1.4.8\n"
          ]
        }
      ]
    },
    {
      "cell_type": "code",
      "metadata": {
        "id": "nUPIrjOB_-BR",
        "colab": {
          "base_uri": "https://localhost:8080/"
        },
        "outputId": "17c49c64-385e-49ad-c095-05cb616fb0d9"
      },
      "source": [
        "!python -m spacy download en_core_web_md"
      ],
      "execution_count": 3,
      "outputs": [
        {
          "output_type": "stream",
          "name": "stdout",
          "text": [
            "Collecting en-core-web-md==3.8.0\n",
            "  Downloading https://github.com/explosion/spacy-models/releases/download/en_core_web_md-3.8.0/en_core_web_md-3.8.0-py3-none-any.whl (33.5 MB)\n",
            "\u001b[2K     \u001b[90m━━━━━━━━━━━━━━━━━━━━━━━━━━━━━━━━━━━━━━━━\u001b[0m \u001b[32m33.5/33.5 MB\u001b[0m \u001b[31m67.1 MB/s\u001b[0m eta \u001b[36m0:00:00\u001b[0m\n",
            "\u001b[?25hInstalling collected packages: en-core-web-md\n",
            "Successfully installed en-core-web-md-3.8.0\n",
            "\u001b[38;5;2m✔ Download and installation successful\u001b[0m\n",
            "You can now load the package via spacy.load('en_core_web_md')\n",
            "\u001b[38;5;3m⚠ Restart to reload dependencies\u001b[0m\n",
            "If you are in a Jupyter or Colab notebook, you may need to restart Python in\n",
            "order to load all the package's dependencies. You can do this by selecting the\n",
            "'Restart kernel' or 'Restart runtime' option.\n"
          ]
        }
      ]
    },
    {
      "cell_type": "markdown",
      "metadata": {
        "id": "isyLmOAZqYR0"
      },
      "source": [
        "## Restart runtime!"
      ]
    },
    {
      "cell_type": "code",
      "metadata": {
        "id": "rXrXC0mrzGd5"
      },
      "source": [
        "import re\n",
        "import pandas as pd\n",
        "import numpy as np\n",
        "import matplotlib.pyplot as plt\n",
        "from sklearn.feature_extraction.text import CountVectorizer, TfidfVectorizer\n",
        "\n",
        "import spacy\n",
        "spacy.util.fix_random_seed(0)\n",
        "\n",
        "import pyLDAvis\n",
        "import pyLDAvis.gensim_models\n",
        "\n",
        "import gensim\n",
        "import gensim.corpora as corpora\n",
        "from gensim.utils import simple_preprocess\n",
        "from gensim.models import CoherenceModel\n",
        "\n",
        "from pandarallel import pandarallel\n",
        "\n",
        "%matplotlib inline\n",
        "\n",
        "import warnings\n",
        "warnings.filterwarnings(\"ignore\")"
      ],
      "execution_count": 1,
      "outputs": []
    },
    {
      "cell_type": "markdown",
      "metadata": {
        "id": "x9ph4ZzpzGd6"
      },
      "source": [
        "----\n",
        "### Load the Amazon Review corpus\n",
        "This dataset is located in the Sprint 1 Module 1 `/data` directory.\n",
        "\n",
        "If the provided relative path doesn't work for you, then you'll have to provide the file path so pandas can read in the file."
      ]
    },
    {
      "cell_type": "code",
      "metadata": {
        "colab": {
          "base_uri": "https://localhost:8080/"
        },
        "id": "c_L4bKk_4E84",
        "outputId": "38881526-206c-4ce7-fde7-c53e8c02057c"
      },
      "source": [
        "# A \"brute force\" way to get the Amazon reviews dataset; just clone the Sprint 1 repo!\n",
        "# Overkill, but it does the job!\n",
        "!git clone https://github.com/LambdaSchool/DS-Unit-4-Sprint-1-NLP.git"
      ],
      "execution_count": 2,
      "outputs": [
        {
          "output_type": "stream",
          "name": "stdout",
          "text": [
            "Cloning into 'DS-Unit-4-Sprint-1-NLP'...\n",
            "remote: Enumerating objects: 1746, done.\u001b[K\n",
            "remote: Counting objects: 100% (214/214), done.\u001b[K\n",
            "remote: Compressing objects: 100% (126/126), done.\u001b[K\n",
            "remote: Total 1746 (delta 117), reused 155 (delta 88), pack-reused 1532 (from 1)\u001b[K\n",
            "Receiving objects: 100% (1746/1746), 60.07 MiB | 26.51 MiB/s, done.\n",
            "Resolving deltas: 100% (286/286), done.\n"
          ]
        }
      ]
    },
    {
      "cell_type": "code",
      "metadata": {
        "colab": {
          "base_uri": "https://localhost:8080/"
        },
        "id": "7__zXIF_504B",
        "outputId": "d0823461-c32c-4297-84a4-8c9e80f171cc"
      },
      "source": [
        "!unzip '/content/DS-Unit-4-Sprint-1-NLP/module1-text-data/data/Datafiniti_Amazon_Consumer_Reviews_of_Amazon_Products_May19.csv.zip'"
      ],
      "execution_count": 3,
      "outputs": [
        {
          "output_type": "stream",
          "name": "stdout",
          "text": [
            "Archive:  /content/DS-Unit-4-Sprint-1-NLP/module1-text-data/data/Datafiniti_Amazon_Consumer_Reviews_of_Amazon_Products_May19.csv.zip\n",
            "  inflating: Datafiniti_Amazon_Consumer_Reviews_of_Amazon_Products_May19.csv  \n",
            "   creating: __MACOSX/\n",
            "  inflating: __MACOSX/._Datafiniti_Amazon_Consumer_Reviews_of_Amazon_Products_May19.csv  \n"
          ]
        }
      ]
    },
    {
      "cell_type": "code",
      "metadata": {
        "id": "Ov482n4pzGd6"
      },
      "source": [
        "data_path = \"/content/Datafiniti_Amazon_Consumer_Reviews_of_Amazon_Products_May19.csv\"\n",
        "df = pd.read_csv(data_path)"
      ],
      "execution_count": 4,
      "outputs": []
    },
    {
      "cell_type": "code",
      "metadata": {
        "id": "-yZZEwZNzGd7",
        "colab": {
          "base_uri": "https://localhost:8080/",
          "height": 300
        },
        "outputId": "23be6d39-09f5-4cb4-d6fe-492af791f4a8"
      },
      "source": [
        "df.head(2)"
      ],
      "execution_count": 5,
      "outputs": [
        {
          "output_type": "execute_result",
          "data": {
            "text/plain": [
              "                     id             dateAdded           dateUpdated  \\\n",
              "0  AVpgNzjwLJeJML43Kpxn  2015-10-30T08:59:32Z  2019-04-25T09:08:16Z   \n",
              "1  AVpgNzjwLJeJML43Kpxn  2015-10-30T08:59:32Z  2019-04-25T09:08:16Z   \n",
              "\n",
              "                                                name                  asins  \\\n",
              "0  AmazonBasics AAA Performance Alkaline Batterie...  B00QWO9P0O,B00LH3DMUO   \n",
              "1  AmazonBasics AAA Performance Alkaline Batterie...  B00QWO9P0O,B00LH3DMUO   \n",
              "\n",
              "          brand                                         categories  \\\n",
              "0  Amazonbasics  AA,AAA,Health,Electronics,Health & Household,C...   \n",
              "1  Amazonbasics  AA,AAA,Health,Electronics,Health & Household,C...   \n",
              "\n",
              "  primaryCategories                                          imageURLs  \\\n",
              "0   Health & Beauty  https://images-na.ssl-images-amazon.com/images...   \n",
              "1   Health & Beauty  https://images-na.ssl-images-amazon.com/images...   \n",
              "\n",
              "                                                keys  ... reviews.didPurchase  \\\n",
              "0  amazonbasics/hl002619,amazonbasicsaaaperforman...  ...                 NaN   \n",
              "1  amazonbasics/hl002619,amazonbasicsaaaperforman...  ...                 NaN   \n",
              "\n",
              "  reviews.doRecommend reviews.id reviews.numHelpful reviews.rating  \\\n",
              "0                 NaN        NaN                NaN              3   \n",
              "1                 NaN        NaN                NaN              4   \n",
              "\n",
              "                                  reviews.sourceURLs  \\\n",
              "0  https://www.amazon.com/product-reviews/B00QWO9...   \n",
              "1  https://www.amazon.com/product-reviews/B00QWO9...   \n",
              "\n",
              "                                        reviews.text  \\\n",
              "0  I order 3 of them and one of the item is bad q...   \n",
              "1  Bulk is always the less expensive way to go fo...   \n",
              "\n",
              "                                       reviews.title  reviews.username  \\\n",
              "0  ... 3 of them and one of the item is bad quali...        Byger yang   \n",
              "1  ... always the less expensive way to go for pr...              ByMG   \n",
              "\n",
              "                                          sourceURLs  \n",
              "0  https://www.barcodable.com/upc/841710106442,ht...  \n",
              "1  https://www.barcodable.com/upc/841710106442,ht...  \n",
              "\n",
              "[2 rows x 24 columns]"
            ],
            "text/html": [
              "\n",
              "  <div id=\"df-47023958-8819-4f87-a2e4-e1198dcf6be2\" class=\"colab-df-container\">\n",
              "    <div>\n",
              "<style scoped>\n",
              "    .dataframe tbody tr th:only-of-type {\n",
              "        vertical-align: middle;\n",
              "    }\n",
              "\n",
              "    .dataframe tbody tr th {\n",
              "        vertical-align: top;\n",
              "    }\n",
              "\n",
              "    .dataframe thead th {\n",
              "        text-align: right;\n",
              "    }\n",
              "</style>\n",
              "<table border=\"1\" class=\"dataframe\">\n",
              "  <thead>\n",
              "    <tr style=\"text-align: right;\">\n",
              "      <th></th>\n",
              "      <th>id</th>\n",
              "      <th>dateAdded</th>\n",
              "      <th>dateUpdated</th>\n",
              "      <th>name</th>\n",
              "      <th>asins</th>\n",
              "      <th>brand</th>\n",
              "      <th>categories</th>\n",
              "      <th>primaryCategories</th>\n",
              "      <th>imageURLs</th>\n",
              "      <th>keys</th>\n",
              "      <th>...</th>\n",
              "      <th>reviews.didPurchase</th>\n",
              "      <th>reviews.doRecommend</th>\n",
              "      <th>reviews.id</th>\n",
              "      <th>reviews.numHelpful</th>\n",
              "      <th>reviews.rating</th>\n",
              "      <th>reviews.sourceURLs</th>\n",
              "      <th>reviews.text</th>\n",
              "      <th>reviews.title</th>\n",
              "      <th>reviews.username</th>\n",
              "      <th>sourceURLs</th>\n",
              "    </tr>\n",
              "  </thead>\n",
              "  <tbody>\n",
              "    <tr>\n",
              "      <th>0</th>\n",
              "      <td>AVpgNzjwLJeJML43Kpxn</td>\n",
              "      <td>2015-10-30T08:59:32Z</td>\n",
              "      <td>2019-04-25T09:08:16Z</td>\n",
              "      <td>AmazonBasics AAA Performance Alkaline Batterie...</td>\n",
              "      <td>B00QWO9P0O,B00LH3DMUO</td>\n",
              "      <td>Amazonbasics</td>\n",
              "      <td>AA,AAA,Health,Electronics,Health &amp; Household,C...</td>\n",
              "      <td>Health &amp; Beauty</td>\n",
              "      <td>https://images-na.ssl-images-amazon.com/images...</td>\n",
              "      <td>amazonbasics/hl002619,amazonbasicsaaaperforman...</td>\n",
              "      <td>...</td>\n",
              "      <td>NaN</td>\n",
              "      <td>NaN</td>\n",
              "      <td>NaN</td>\n",
              "      <td>NaN</td>\n",
              "      <td>3</td>\n",
              "      <td>https://www.amazon.com/product-reviews/B00QWO9...</td>\n",
              "      <td>I order 3 of them and one of the item is bad q...</td>\n",
              "      <td>... 3 of them and one of the item is bad quali...</td>\n",
              "      <td>Byger yang</td>\n",
              "      <td>https://www.barcodable.com/upc/841710106442,ht...</td>\n",
              "    </tr>\n",
              "    <tr>\n",
              "      <th>1</th>\n",
              "      <td>AVpgNzjwLJeJML43Kpxn</td>\n",
              "      <td>2015-10-30T08:59:32Z</td>\n",
              "      <td>2019-04-25T09:08:16Z</td>\n",
              "      <td>AmazonBasics AAA Performance Alkaline Batterie...</td>\n",
              "      <td>B00QWO9P0O,B00LH3DMUO</td>\n",
              "      <td>Amazonbasics</td>\n",
              "      <td>AA,AAA,Health,Electronics,Health &amp; Household,C...</td>\n",
              "      <td>Health &amp; Beauty</td>\n",
              "      <td>https://images-na.ssl-images-amazon.com/images...</td>\n",
              "      <td>amazonbasics/hl002619,amazonbasicsaaaperforman...</td>\n",
              "      <td>...</td>\n",
              "      <td>NaN</td>\n",
              "      <td>NaN</td>\n",
              "      <td>NaN</td>\n",
              "      <td>NaN</td>\n",
              "      <td>4</td>\n",
              "      <td>https://www.amazon.com/product-reviews/B00QWO9...</td>\n",
              "      <td>Bulk is always the less expensive way to go fo...</td>\n",
              "      <td>... always the less expensive way to go for pr...</td>\n",
              "      <td>ByMG</td>\n",
              "      <td>https://www.barcodable.com/upc/841710106442,ht...</td>\n",
              "    </tr>\n",
              "  </tbody>\n",
              "</table>\n",
              "<p>2 rows × 24 columns</p>\n",
              "</div>\n",
              "    <div class=\"colab-df-buttons\">\n",
              "\n",
              "  <div class=\"colab-df-container\">\n",
              "    <button class=\"colab-df-convert\" onclick=\"convertToInteractive('df-47023958-8819-4f87-a2e4-e1198dcf6be2')\"\n",
              "            title=\"Convert this dataframe to an interactive table.\"\n",
              "            style=\"display:none;\">\n",
              "\n",
              "  <svg xmlns=\"http://www.w3.org/2000/svg\" height=\"24px\" viewBox=\"0 -960 960 960\">\n",
              "    <path d=\"M120-120v-720h720v720H120Zm60-500h600v-160H180v160Zm220 220h160v-160H400v160Zm0 220h160v-160H400v160ZM180-400h160v-160H180v160Zm440 0h160v-160H620v160ZM180-180h160v-160H180v160Zm440 0h160v-160H620v160Z\"/>\n",
              "  </svg>\n",
              "    </button>\n",
              "\n",
              "  <style>\n",
              "    .colab-df-container {\n",
              "      display:flex;\n",
              "      gap: 12px;\n",
              "    }\n",
              "\n",
              "    .colab-df-convert {\n",
              "      background-color: #E8F0FE;\n",
              "      border: none;\n",
              "      border-radius: 50%;\n",
              "      cursor: pointer;\n",
              "      display: none;\n",
              "      fill: #1967D2;\n",
              "      height: 32px;\n",
              "      padding: 0 0 0 0;\n",
              "      width: 32px;\n",
              "    }\n",
              "\n",
              "    .colab-df-convert:hover {\n",
              "      background-color: #E2EBFA;\n",
              "      box-shadow: 0px 1px 2px rgba(60, 64, 67, 0.3), 0px 1px 3px 1px rgba(60, 64, 67, 0.15);\n",
              "      fill: #174EA6;\n",
              "    }\n",
              "\n",
              "    .colab-df-buttons div {\n",
              "      margin-bottom: 4px;\n",
              "    }\n",
              "\n",
              "    [theme=dark] .colab-df-convert {\n",
              "      background-color: #3B4455;\n",
              "      fill: #D2E3FC;\n",
              "    }\n",
              "\n",
              "    [theme=dark] .colab-df-convert:hover {\n",
              "      background-color: #434B5C;\n",
              "      box-shadow: 0px 1px 3px 1px rgba(0, 0, 0, 0.15);\n",
              "      filter: drop-shadow(0px 1px 2px rgba(0, 0, 0, 0.3));\n",
              "      fill: #FFFFFF;\n",
              "    }\n",
              "  </style>\n",
              "\n",
              "    <script>\n",
              "      const buttonEl =\n",
              "        document.querySelector('#df-47023958-8819-4f87-a2e4-e1198dcf6be2 button.colab-df-convert');\n",
              "      buttonEl.style.display =\n",
              "        google.colab.kernel.accessAllowed ? 'block' : 'none';\n",
              "\n",
              "      async function convertToInteractive(key) {\n",
              "        const element = document.querySelector('#df-47023958-8819-4f87-a2e4-e1198dcf6be2');\n",
              "        const dataTable =\n",
              "          await google.colab.kernel.invokeFunction('convertToInteractive',\n",
              "                                                    [key], {});\n",
              "        if (!dataTable) return;\n",
              "\n",
              "        const docLinkHtml = 'Like what you see? Visit the ' +\n",
              "          '<a target=\"_blank\" href=https://colab.research.google.com/notebooks/data_table.ipynb>data table notebook</a>'\n",
              "          + ' to learn more about interactive tables.';\n",
              "        element.innerHTML = '';\n",
              "        dataTable['output_type'] = 'display_data';\n",
              "        await google.colab.output.renderOutput(dataTable, element);\n",
              "        const docLink = document.createElement('div');\n",
              "        docLink.innerHTML = docLinkHtml;\n",
              "        element.appendChild(docLink);\n",
              "      }\n",
              "    </script>\n",
              "  </div>\n",
              "\n",
              "\n",
              "    <div id=\"df-099aad52-24cd-4ed8-a60c-264ea9e85941\">\n",
              "      <button class=\"colab-df-quickchart\" onclick=\"quickchart('df-099aad52-24cd-4ed8-a60c-264ea9e85941')\"\n",
              "                title=\"Suggest charts\"\n",
              "                style=\"display:none;\">\n",
              "\n",
              "<svg xmlns=\"http://www.w3.org/2000/svg\" height=\"24px\"viewBox=\"0 0 24 24\"\n",
              "     width=\"24px\">\n",
              "    <g>\n",
              "        <path d=\"M19 3H5c-1.1 0-2 .9-2 2v14c0 1.1.9 2 2 2h14c1.1 0 2-.9 2-2V5c0-1.1-.9-2-2-2zM9 17H7v-7h2v7zm4 0h-2V7h2v10zm4 0h-2v-4h2v4z\"/>\n",
              "    </g>\n",
              "</svg>\n",
              "      </button>\n",
              "\n",
              "<style>\n",
              "  .colab-df-quickchart {\n",
              "      --bg-color: #E8F0FE;\n",
              "      --fill-color: #1967D2;\n",
              "      --hover-bg-color: #E2EBFA;\n",
              "      --hover-fill-color: #174EA6;\n",
              "      --disabled-fill-color: #AAA;\n",
              "      --disabled-bg-color: #DDD;\n",
              "  }\n",
              "\n",
              "  [theme=dark] .colab-df-quickchart {\n",
              "      --bg-color: #3B4455;\n",
              "      --fill-color: #D2E3FC;\n",
              "      --hover-bg-color: #434B5C;\n",
              "      --hover-fill-color: #FFFFFF;\n",
              "      --disabled-bg-color: #3B4455;\n",
              "      --disabled-fill-color: #666;\n",
              "  }\n",
              "\n",
              "  .colab-df-quickchart {\n",
              "    background-color: var(--bg-color);\n",
              "    border: none;\n",
              "    border-radius: 50%;\n",
              "    cursor: pointer;\n",
              "    display: none;\n",
              "    fill: var(--fill-color);\n",
              "    height: 32px;\n",
              "    padding: 0;\n",
              "    width: 32px;\n",
              "  }\n",
              "\n",
              "  .colab-df-quickchart:hover {\n",
              "    background-color: var(--hover-bg-color);\n",
              "    box-shadow: 0 1px 2px rgba(60, 64, 67, 0.3), 0 1px 3px 1px rgba(60, 64, 67, 0.15);\n",
              "    fill: var(--button-hover-fill-color);\n",
              "  }\n",
              "\n",
              "  .colab-df-quickchart-complete:disabled,\n",
              "  .colab-df-quickchart-complete:disabled:hover {\n",
              "    background-color: var(--disabled-bg-color);\n",
              "    fill: var(--disabled-fill-color);\n",
              "    box-shadow: none;\n",
              "  }\n",
              "\n",
              "  .colab-df-spinner {\n",
              "    border: 2px solid var(--fill-color);\n",
              "    border-color: transparent;\n",
              "    border-bottom-color: var(--fill-color);\n",
              "    animation:\n",
              "      spin 1s steps(1) infinite;\n",
              "  }\n",
              "\n",
              "  @keyframes spin {\n",
              "    0% {\n",
              "      border-color: transparent;\n",
              "      border-bottom-color: var(--fill-color);\n",
              "      border-left-color: var(--fill-color);\n",
              "    }\n",
              "    20% {\n",
              "      border-color: transparent;\n",
              "      border-left-color: var(--fill-color);\n",
              "      border-top-color: var(--fill-color);\n",
              "    }\n",
              "    30% {\n",
              "      border-color: transparent;\n",
              "      border-left-color: var(--fill-color);\n",
              "      border-top-color: var(--fill-color);\n",
              "      border-right-color: var(--fill-color);\n",
              "    }\n",
              "    40% {\n",
              "      border-color: transparent;\n",
              "      border-right-color: var(--fill-color);\n",
              "      border-top-color: var(--fill-color);\n",
              "    }\n",
              "    60% {\n",
              "      border-color: transparent;\n",
              "      border-right-color: var(--fill-color);\n",
              "    }\n",
              "    80% {\n",
              "      border-color: transparent;\n",
              "      border-right-color: var(--fill-color);\n",
              "      border-bottom-color: var(--fill-color);\n",
              "    }\n",
              "    90% {\n",
              "      border-color: transparent;\n",
              "      border-bottom-color: var(--fill-color);\n",
              "    }\n",
              "  }\n",
              "</style>\n",
              "\n",
              "      <script>\n",
              "        async function quickchart(key) {\n",
              "          const quickchartButtonEl =\n",
              "            document.querySelector('#' + key + ' button');\n",
              "          quickchartButtonEl.disabled = true;  // To prevent multiple clicks.\n",
              "          quickchartButtonEl.classList.add('colab-df-spinner');\n",
              "          try {\n",
              "            const charts = await google.colab.kernel.invokeFunction(\n",
              "                'suggestCharts', [key], {});\n",
              "          } catch (error) {\n",
              "            console.error('Error during call to suggestCharts:', error);\n",
              "          }\n",
              "          quickchartButtonEl.classList.remove('colab-df-spinner');\n",
              "          quickchartButtonEl.classList.add('colab-df-quickchart-complete');\n",
              "        }\n",
              "        (() => {\n",
              "          let quickchartButtonEl =\n",
              "            document.querySelector('#df-099aad52-24cd-4ed8-a60c-264ea9e85941 button');\n",
              "          quickchartButtonEl.style.display =\n",
              "            google.colab.kernel.accessAllowed ? 'block' : 'none';\n",
              "        })();\n",
              "      </script>\n",
              "    </div>\n",
              "\n",
              "    </div>\n",
              "  </div>\n"
            ],
            "application/vnd.google.colaboratory.intrinsic+json": {
              "type": "dataframe",
              "variable_name": "df"
            }
          },
          "metadata": {},
          "execution_count": 5
        }
      ]
    },
    {
      "cell_type": "markdown",
      "metadata": {
        "id": "kdwr6x8PzGd7"
      },
      "source": [
        "----\n",
        "\n",
        "### Clean data\n",
        "\n",
        "- Create a function called `clean_data` that uses regex expressions to clean your data in preparation for the vectorizer.\n",
        "\n",
        "- Save the clean text data to a column in your dataframe named `clean_text`\n",
        "\n",
        "- Feel free to re-use old code that you have written in previous modules  "
      ]
    },
    {
      "cell_type": "code",
      "metadata": {
        "colab": {
          "base_uri": "https://localhost:8080/"
        },
        "id": "g5cL1Amq8iT_",
        "outputId": "c6d69a26-c8d7-4e3f-9932-f93cf9b7f22a"
      },
      "source": [
        "df.shape"
      ],
      "execution_count": 6,
      "outputs": [
        {
          "output_type": "execute_result",
          "data": {
            "text/plain": [
              "(28332, 24)"
            ]
          },
          "metadata": {},
          "execution_count": 6
        }
      ]
    },
    {
      "cell_type": "code",
      "metadata": {
        "colab": {
          "base_uri": "https://localhost:8080/",
          "height": 35
        },
        "id": "dgW6kglx8T_l",
        "outputId": "80ef87dc-041c-420d-c3ac-7c02c0079047"
      },
      "source": [
        "df['reviews.text'][8505]"
      ],
      "execution_count": 7,
      "outputs": [
        {
          "output_type": "execute_result",
          "data": {
            "text/plain": [
              "'Have had zero issues with longevity or voltage. As good as the major brand batteries'"
            ],
            "application/vnd.google.colaboratory.intrinsic+json": {
              "type": "string"
            }
          },
          "metadata": {},
          "execution_count": 7
        }
      ]
    },
    {
      "cell_type": "code",
      "metadata": {
        "deletable": false,
        "nbgrader": {
          "cell_type": "code",
          "checksum": "a2513c0ebd04cf8645fe0a1feb1e1a36",
          "grade": false,
          "grade_id": "cell-fa0950cfe5ef7725",
          "locked": false,
          "schema_version": 3,
          "solution": true,
          "task": false
        },
        "id": "4xo_hkHKzGd7"
      },
      "source": [
        "def clean_data(text):\n",
        "  \"\"\"\n",
        "  Cleans data to remove unwanted characters and punctuation.\n",
        "  \"\"\"\n",
        "  # remove newline and '\\xa0' characters\n",
        "  text = \" \".join(text.split())\n",
        "  # remove punctuation\n",
        "  text = re.sub('[^a-zA-Z$ 0-9]', '', text)\n",
        "  # remove any double whitespaces created by cleaning\n",
        "  text = re.sub(\"[ ]{2,}\", ' ', text)\n",
        "\n",
        "  return text.lower()"
      ],
      "execution_count": 8,
      "outputs": []
    },
    {
      "cell_type": "code",
      "metadata": {
        "deletable": false,
        "nbgrader": {
          "cell_type": "code",
          "checksum": "a6ceefe5476e71efcb3d36c3e203616f",
          "grade": false,
          "grade_id": "cell-5b8e2bc0f9a745f3",
          "locked": false,
          "schema_version": 3,
          "solution": true,
          "task": false
        },
        "id": "H693L3fJzGd8"
      },
      "source": [
        "# create a clean_text column by applying  clean_data to your text\n",
        "df['clean_text'] = df['reviews.text'].apply(clean_data)"
      ],
      "execution_count": 9,
      "outputs": []
    },
    {
      "cell_type": "code",
      "metadata": {
        "id": "5FMvAhkBzGd8"
      },
      "source": [
        "alphebetical_chars = [\"ABCDEFGHIJKLMNOP\"]\n",
        "# check if any of these alphabetical chars exist in your clean chars\n",
        "assert df.clean_text.isin(alphebetical_chars).sum() == 0, \"Did you case normalize your text inside of your clean_data function?\""
      ],
      "execution_count": 10,
      "outputs": []
    },
    {
      "cell_type": "markdown",
      "metadata": {
        "id": "kzqt1ainzGd8"
      },
      "source": [
        "------\n",
        "\n",
        "## Determine number of topics\n",
        "\n",
        "We are going to run an experiment to determine how many topics exists within the `primaryCategories` of `Electronics`. This is the largest primary category containing nearly 14K documents, so we should have plenty of data.\n",
        "\n",
        "Just as we did in the guided project, we'll be running a gridseach over the number of topics and scoring each model using the Coherence metric to determine which number of topics we should use.\n"
      ]
    },
    {
      "cell_type": "code",
      "metadata": {
        "id": "3jrHewGbzGd9"
      },
      "source": [
        "# create a mask for docs that are in the Electronics primaryCategories - save result to `electronics_mask`\n",
        "electronics_mask = df.primaryCategories.isin([\"Electronics\"])\n",
        "\n",
        "# use mask to select all the documents in the Electronics primaryCategories - save result to `df_electronics`\n",
        "df_electronics = df[electronics_mask]"
      ],
      "execution_count": 11,
      "outputs": []
    },
    {
      "cell_type": "code",
      "metadata": {
        "colab": {
          "base_uri": "https://localhost:8080/",
          "height": 418
        },
        "id": "peb18zW3zGd9",
        "outputId": "2f26d1fd-533f-4af7-bfae-4d2ebd1882a0"
      },
      "source": [
        "print(len(df_electronics))\n",
        "df_electronics.head(3)"
      ],
      "execution_count": 13,
      "outputs": [
        {
          "output_type": "stream",
          "name": "stdout",
          "text": [
            "13995\n"
          ]
        },
        {
          "output_type": "execute_result",
          "data": {
            "text/plain": [
              "                        id             dateAdded           dateUpdated  \\\n",
              "8343  AVpe7nGV1cnluZ0-aG2o  2014-10-28T11:14:38Z  2019-04-25T09:05:28Z   \n",
              "8344  AVpe7nGV1cnluZ0-aG2o  2014-10-28T11:14:38Z  2019-04-25T09:05:28Z   \n",
              "8345  AVpe7nGV1cnluZ0-aG2o  2014-10-28T11:14:38Z  2019-04-25T09:05:28Z   \n",
              "\n",
              "                                                 name                  asins  \\\n",
              "8343  AmazonBasics Nylon CD/DVD Binder (400 Capacity)  B00DIHVMEA,B00EZ1ZTV0   \n",
              "8344  AmazonBasics Nylon CD/DVD Binder (400 Capacity)  B00DIHVMEA,B00EZ1ZTV0   \n",
              "8345  AmazonBasics Nylon CD/DVD Binder (400 Capacity)  B00DIHVMEA,B00EZ1ZTV0   \n",
              "\n",
              "             brand                                         categories  \\\n",
              "8343  Amazonbasics  Audio & Video Accessories,TV, Video & Home Aud...   \n",
              "8344  Amazonbasics  Audio & Video Accessories,TV, Video & Home Aud...   \n",
              "8345  Amazonbasics  Audio & Video Accessories,TV, Video & Home Aud...   \n",
              "\n",
              "     primaryCategories                                          imageURLs  \\\n",
              "8343       Electronics  http://ecx.images-amazon.com/images/I/41jQha7Z...   \n",
              "8344       Electronics  http://ecx.images-amazon.com/images/I/41jQha7Z...   \n",
              "8345       Electronics  http://ecx.images-amazon.com/images/I/41jQha7Z...   \n",
              "\n",
              "                                                   keys  ...  \\\n",
              "8343  amazonbasicsnyloncddvdbinder400capacity/b00ez1...  ...   \n",
              "8344  amazonbasicsnyloncddvdbinder400capacity/b00ez1...  ...   \n",
              "8345  amazonbasicsnyloncddvdbinder400capacity/b00ez1...  ...   \n",
              "\n",
              "     reviews.doRecommend reviews.id reviews.numHelpful reviews.rating  \\\n",
              "8343                 NaN        NaN                NaN              5   \n",
              "8344                 NaN        NaN                NaN              5   \n",
              "8345                 NaN        NaN                NaN              5   \n",
              "\n",
              "                                     reviews.sourceURLs  \\\n",
              "8343  https://www.ebay.com/itm/Amazonbasics-Nylon-Cd...   \n",
              "8344  http://www.amazon.co.uk/gp/product-reviews/B00...   \n",
              "8345  https://www.ebay.com/itm/Amazonbasics-Nylon-Cd...   \n",
              "\n",
              "                                           reviews.text  \\\n",
              "8343  Great case to keep everything in its place! My...   \n",
              "8344  After discarding and getting rid of broken cd ...   \n",
              "8345     A few dollars more, but I am boycotting amazon   \n",
              "\n",
              "                     reviews.title  reviews.username  \\\n",
              "8343             Excellent product           qs341_5   \n",
              "8344  It was a much needed storage          Diablita   \n",
              "8345               it was worth it  coldbloodblazing   \n",
              "\n",
              "                                             sourceURLs  \\\n",
              "8343  https://www.ebay.com/itm/AmazonBasics-Nylon-CD...   \n",
              "8344  https://www.ebay.com/itm/AmazonBasics-Nylon-CD...   \n",
              "8345  https://www.ebay.com/itm/AmazonBasics-Nylon-CD...   \n",
              "\n",
              "                                             clean_text  \n",
              "8343  great case to keep everything in its place my ...  \n",
              "8344  after discarding and getting rid of broken cd ...  \n",
              "8345      a few dollars more but i am boycotting amazon  \n",
              "\n",
              "[3 rows x 25 columns]"
            ],
            "text/html": [
              "\n",
              "  <div id=\"df-ada2769b-f41e-4d22-bd39-f8d277359a8b\" class=\"colab-df-container\">\n",
              "    <div>\n",
              "<style scoped>\n",
              "    .dataframe tbody tr th:only-of-type {\n",
              "        vertical-align: middle;\n",
              "    }\n",
              "\n",
              "    .dataframe tbody tr th {\n",
              "        vertical-align: top;\n",
              "    }\n",
              "\n",
              "    .dataframe thead th {\n",
              "        text-align: right;\n",
              "    }\n",
              "</style>\n",
              "<table border=\"1\" class=\"dataframe\">\n",
              "  <thead>\n",
              "    <tr style=\"text-align: right;\">\n",
              "      <th></th>\n",
              "      <th>id</th>\n",
              "      <th>dateAdded</th>\n",
              "      <th>dateUpdated</th>\n",
              "      <th>name</th>\n",
              "      <th>asins</th>\n",
              "      <th>brand</th>\n",
              "      <th>categories</th>\n",
              "      <th>primaryCategories</th>\n",
              "      <th>imageURLs</th>\n",
              "      <th>keys</th>\n",
              "      <th>...</th>\n",
              "      <th>reviews.doRecommend</th>\n",
              "      <th>reviews.id</th>\n",
              "      <th>reviews.numHelpful</th>\n",
              "      <th>reviews.rating</th>\n",
              "      <th>reviews.sourceURLs</th>\n",
              "      <th>reviews.text</th>\n",
              "      <th>reviews.title</th>\n",
              "      <th>reviews.username</th>\n",
              "      <th>sourceURLs</th>\n",
              "      <th>clean_text</th>\n",
              "    </tr>\n",
              "  </thead>\n",
              "  <tbody>\n",
              "    <tr>\n",
              "      <th>8343</th>\n",
              "      <td>AVpe7nGV1cnluZ0-aG2o</td>\n",
              "      <td>2014-10-28T11:14:38Z</td>\n",
              "      <td>2019-04-25T09:05:28Z</td>\n",
              "      <td>AmazonBasics Nylon CD/DVD Binder (400 Capacity)</td>\n",
              "      <td>B00DIHVMEA,B00EZ1ZTV0</td>\n",
              "      <td>Amazonbasics</td>\n",
              "      <td>Audio &amp; Video Accessories,TV, Video &amp; Home Aud...</td>\n",
              "      <td>Electronics</td>\n",
              "      <td>http://ecx.images-amazon.com/images/I/41jQha7Z...</td>\n",
              "      <td>amazonbasicsnyloncddvdbinder400capacity/b00ez1...</td>\n",
              "      <td>...</td>\n",
              "      <td>NaN</td>\n",
              "      <td>NaN</td>\n",
              "      <td>NaN</td>\n",
              "      <td>5</td>\n",
              "      <td>https://www.ebay.com/itm/Amazonbasics-Nylon-Cd...</td>\n",
              "      <td>Great case to keep everything in its place! My...</td>\n",
              "      <td>Excellent product</td>\n",
              "      <td>qs341_5</td>\n",
              "      <td>https://www.ebay.com/itm/AmazonBasics-Nylon-CD...</td>\n",
              "      <td>great case to keep everything in its place my ...</td>\n",
              "    </tr>\n",
              "    <tr>\n",
              "      <th>8344</th>\n",
              "      <td>AVpe7nGV1cnluZ0-aG2o</td>\n",
              "      <td>2014-10-28T11:14:38Z</td>\n",
              "      <td>2019-04-25T09:05:28Z</td>\n",
              "      <td>AmazonBasics Nylon CD/DVD Binder (400 Capacity)</td>\n",
              "      <td>B00DIHVMEA,B00EZ1ZTV0</td>\n",
              "      <td>Amazonbasics</td>\n",
              "      <td>Audio &amp; Video Accessories,TV, Video &amp; Home Aud...</td>\n",
              "      <td>Electronics</td>\n",
              "      <td>http://ecx.images-amazon.com/images/I/41jQha7Z...</td>\n",
              "      <td>amazonbasicsnyloncddvdbinder400capacity/b00ez1...</td>\n",
              "      <td>...</td>\n",
              "      <td>NaN</td>\n",
              "      <td>NaN</td>\n",
              "      <td>NaN</td>\n",
              "      <td>5</td>\n",
              "      <td>http://www.amazon.co.uk/gp/product-reviews/B00...</td>\n",
              "      <td>After discarding and getting rid of broken cd ...</td>\n",
              "      <td>It was a much needed storage</td>\n",
              "      <td>Diablita</td>\n",
              "      <td>https://www.ebay.com/itm/AmazonBasics-Nylon-CD...</td>\n",
              "      <td>after discarding and getting rid of broken cd ...</td>\n",
              "    </tr>\n",
              "    <tr>\n",
              "      <th>8345</th>\n",
              "      <td>AVpe7nGV1cnluZ0-aG2o</td>\n",
              "      <td>2014-10-28T11:14:38Z</td>\n",
              "      <td>2019-04-25T09:05:28Z</td>\n",
              "      <td>AmazonBasics Nylon CD/DVD Binder (400 Capacity)</td>\n",
              "      <td>B00DIHVMEA,B00EZ1ZTV0</td>\n",
              "      <td>Amazonbasics</td>\n",
              "      <td>Audio &amp; Video Accessories,TV, Video &amp; Home Aud...</td>\n",
              "      <td>Electronics</td>\n",
              "      <td>http://ecx.images-amazon.com/images/I/41jQha7Z...</td>\n",
              "      <td>amazonbasicsnyloncddvdbinder400capacity/b00ez1...</td>\n",
              "      <td>...</td>\n",
              "      <td>NaN</td>\n",
              "      <td>NaN</td>\n",
              "      <td>NaN</td>\n",
              "      <td>5</td>\n",
              "      <td>https://www.ebay.com/itm/Amazonbasics-Nylon-Cd...</td>\n",
              "      <td>A few dollars more, but I am boycotting amazon</td>\n",
              "      <td>it was worth it</td>\n",
              "      <td>coldbloodblazing</td>\n",
              "      <td>https://www.ebay.com/itm/AmazonBasics-Nylon-CD...</td>\n",
              "      <td>a few dollars more but i am boycotting amazon</td>\n",
              "    </tr>\n",
              "  </tbody>\n",
              "</table>\n",
              "<p>3 rows × 25 columns</p>\n",
              "</div>\n",
              "    <div class=\"colab-df-buttons\">\n",
              "\n",
              "  <div class=\"colab-df-container\">\n",
              "    <button class=\"colab-df-convert\" onclick=\"convertToInteractive('df-ada2769b-f41e-4d22-bd39-f8d277359a8b')\"\n",
              "            title=\"Convert this dataframe to an interactive table.\"\n",
              "            style=\"display:none;\">\n",
              "\n",
              "  <svg xmlns=\"http://www.w3.org/2000/svg\" height=\"24px\" viewBox=\"0 -960 960 960\">\n",
              "    <path d=\"M120-120v-720h720v720H120Zm60-500h600v-160H180v160Zm220 220h160v-160H400v160Zm0 220h160v-160H400v160ZM180-400h160v-160H180v160Zm440 0h160v-160H620v160ZM180-180h160v-160H180v160Zm440 0h160v-160H620v160Z\"/>\n",
              "  </svg>\n",
              "    </button>\n",
              "\n",
              "  <style>\n",
              "    .colab-df-container {\n",
              "      display:flex;\n",
              "      gap: 12px;\n",
              "    }\n",
              "\n",
              "    .colab-df-convert {\n",
              "      background-color: #E8F0FE;\n",
              "      border: none;\n",
              "      border-radius: 50%;\n",
              "      cursor: pointer;\n",
              "      display: none;\n",
              "      fill: #1967D2;\n",
              "      height: 32px;\n",
              "      padding: 0 0 0 0;\n",
              "      width: 32px;\n",
              "    }\n",
              "\n",
              "    .colab-df-convert:hover {\n",
              "      background-color: #E2EBFA;\n",
              "      box-shadow: 0px 1px 2px rgba(60, 64, 67, 0.3), 0px 1px 3px 1px rgba(60, 64, 67, 0.15);\n",
              "      fill: #174EA6;\n",
              "    }\n",
              "\n",
              "    .colab-df-buttons div {\n",
              "      margin-bottom: 4px;\n",
              "    }\n",
              "\n",
              "    [theme=dark] .colab-df-convert {\n",
              "      background-color: #3B4455;\n",
              "      fill: #D2E3FC;\n",
              "    }\n",
              "\n",
              "    [theme=dark] .colab-df-convert:hover {\n",
              "      background-color: #434B5C;\n",
              "      box-shadow: 0px 1px 3px 1px rgba(0, 0, 0, 0.15);\n",
              "      filter: drop-shadow(0px 1px 2px rgba(0, 0, 0, 0.3));\n",
              "      fill: #FFFFFF;\n",
              "    }\n",
              "  </style>\n",
              "\n",
              "    <script>\n",
              "      const buttonEl =\n",
              "        document.querySelector('#df-ada2769b-f41e-4d22-bd39-f8d277359a8b button.colab-df-convert');\n",
              "      buttonEl.style.display =\n",
              "        google.colab.kernel.accessAllowed ? 'block' : 'none';\n",
              "\n",
              "      async function convertToInteractive(key) {\n",
              "        const element = document.querySelector('#df-ada2769b-f41e-4d22-bd39-f8d277359a8b');\n",
              "        const dataTable =\n",
              "          await google.colab.kernel.invokeFunction('convertToInteractive',\n",
              "                                                    [key], {});\n",
              "        if (!dataTable) return;\n",
              "\n",
              "        const docLinkHtml = 'Like what you see? Visit the ' +\n",
              "          '<a target=\"_blank\" href=https://colab.research.google.com/notebooks/data_table.ipynb>data table notebook</a>'\n",
              "          + ' to learn more about interactive tables.';\n",
              "        element.innerHTML = '';\n",
              "        dataTable['output_type'] = 'display_data';\n",
              "        await google.colab.output.renderOutput(dataTable, element);\n",
              "        const docLink = document.createElement('div');\n",
              "        docLink.innerHTML = docLinkHtml;\n",
              "        element.appendChild(docLink);\n",
              "      }\n",
              "    </script>\n",
              "  </div>\n",
              "\n",
              "\n",
              "    <div id=\"df-a069a963-bcaa-40f2-ad8c-6fd3d7b52be6\">\n",
              "      <button class=\"colab-df-quickchart\" onclick=\"quickchart('df-a069a963-bcaa-40f2-ad8c-6fd3d7b52be6')\"\n",
              "                title=\"Suggest charts\"\n",
              "                style=\"display:none;\">\n",
              "\n",
              "<svg xmlns=\"http://www.w3.org/2000/svg\" height=\"24px\"viewBox=\"0 0 24 24\"\n",
              "     width=\"24px\">\n",
              "    <g>\n",
              "        <path d=\"M19 3H5c-1.1 0-2 .9-2 2v14c0 1.1.9 2 2 2h14c1.1 0 2-.9 2-2V5c0-1.1-.9-2-2-2zM9 17H7v-7h2v7zm4 0h-2V7h2v10zm4 0h-2v-4h2v4z\"/>\n",
              "    </g>\n",
              "</svg>\n",
              "      </button>\n",
              "\n",
              "<style>\n",
              "  .colab-df-quickchart {\n",
              "      --bg-color: #E8F0FE;\n",
              "      --fill-color: #1967D2;\n",
              "      --hover-bg-color: #E2EBFA;\n",
              "      --hover-fill-color: #174EA6;\n",
              "      --disabled-fill-color: #AAA;\n",
              "      --disabled-bg-color: #DDD;\n",
              "  }\n",
              "\n",
              "  [theme=dark] .colab-df-quickchart {\n",
              "      --bg-color: #3B4455;\n",
              "      --fill-color: #D2E3FC;\n",
              "      --hover-bg-color: #434B5C;\n",
              "      --hover-fill-color: #FFFFFF;\n",
              "      --disabled-bg-color: #3B4455;\n",
              "      --disabled-fill-color: #666;\n",
              "  }\n",
              "\n",
              "  .colab-df-quickchart {\n",
              "    background-color: var(--bg-color);\n",
              "    border: none;\n",
              "    border-radius: 50%;\n",
              "    cursor: pointer;\n",
              "    display: none;\n",
              "    fill: var(--fill-color);\n",
              "    height: 32px;\n",
              "    padding: 0;\n",
              "    width: 32px;\n",
              "  }\n",
              "\n",
              "  .colab-df-quickchart:hover {\n",
              "    background-color: var(--hover-bg-color);\n",
              "    box-shadow: 0 1px 2px rgba(60, 64, 67, 0.3), 0 1px 3px 1px rgba(60, 64, 67, 0.15);\n",
              "    fill: var(--button-hover-fill-color);\n",
              "  }\n",
              "\n",
              "  .colab-df-quickchart-complete:disabled,\n",
              "  .colab-df-quickchart-complete:disabled:hover {\n",
              "    background-color: var(--disabled-bg-color);\n",
              "    fill: var(--disabled-fill-color);\n",
              "    box-shadow: none;\n",
              "  }\n",
              "\n",
              "  .colab-df-spinner {\n",
              "    border: 2px solid var(--fill-color);\n",
              "    border-color: transparent;\n",
              "    border-bottom-color: var(--fill-color);\n",
              "    animation:\n",
              "      spin 1s steps(1) infinite;\n",
              "  }\n",
              "\n",
              "  @keyframes spin {\n",
              "    0% {\n",
              "      border-color: transparent;\n",
              "      border-bottom-color: var(--fill-color);\n",
              "      border-left-color: var(--fill-color);\n",
              "    }\n",
              "    20% {\n",
              "      border-color: transparent;\n",
              "      border-left-color: var(--fill-color);\n",
              "      border-top-color: var(--fill-color);\n",
              "    }\n",
              "    30% {\n",
              "      border-color: transparent;\n",
              "      border-left-color: var(--fill-color);\n",
              "      border-top-color: var(--fill-color);\n",
              "      border-right-color: var(--fill-color);\n",
              "    }\n",
              "    40% {\n",
              "      border-color: transparent;\n",
              "      border-right-color: var(--fill-color);\n",
              "      border-top-color: var(--fill-color);\n",
              "    }\n",
              "    60% {\n",
              "      border-color: transparent;\n",
              "      border-right-color: var(--fill-color);\n",
              "    }\n",
              "    80% {\n",
              "      border-color: transparent;\n",
              "      border-right-color: var(--fill-color);\n",
              "      border-bottom-color: var(--fill-color);\n",
              "    }\n",
              "    90% {\n",
              "      border-color: transparent;\n",
              "      border-bottom-color: var(--fill-color);\n",
              "    }\n",
              "  }\n",
              "</style>\n",
              "\n",
              "      <script>\n",
              "        async function quickchart(key) {\n",
              "          const quickchartButtonEl =\n",
              "            document.querySelector('#' + key + ' button');\n",
              "          quickchartButtonEl.disabled = true;  // To prevent multiple clicks.\n",
              "          quickchartButtonEl.classList.add('colab-df-spinner');\n",
              "          try {\n",
              "            const charts = await google.colab.kernel.invokeFunction(\n",
              "                'suggestCharts', [key], {});\n",
              "          } catch (error) {\n",
              "            console.error('Error during call to suggestCharts:', error);\n",
              "          }\n",
              "          quickchartButtonEl.classList.remove('colab-df-spinner');\n",
              "          quickchartButtonEl.classList.add('colab-df-quickchart-complete');\n",
              "        }\n",
              "        (() => {\n",
              "          let quickchartButtonEl =\n",
              "            document.querySelector('#df-a069a963-bcaa-40f2-ad8c-6fd3d7b52be6 button');\n",
              "          quickchartButtonEl.style.display =\n",
              "            google.colab.kernel.accessAllowed ? 'block' : 'none';\n",
              "        })();\n",
              "      </script>\n",
              "    </div>\n",
              "\n",
              "    </div>\n",
              "  </div>\n"
            ],
            "application/vnd.google.colaboratory.intrinsic+json": {
              "type": "dataframe",
              "variable_name": "df_electronics"
            }
          },
          "metadata": {},
          "execution_count": 13
        }
      ]
    },
    {
      "cell_type": "markdown",
      "metadata": {
        "id": "FfZWF0I9zGd-"
      },
      "source": [
        "------\n",
        "### Tokenize your documents\n",
        "\n",
        "Remember that you'll need to use the [**corpora**](https://radimrehurek.com/gensim/corpora/dictionary.html) class from the Gensim library. So definitely check out the docs to learn more about this tool. There is an example on how to do this in the guided project.\n",
        "\n",
        "But before we can use the [**corpora**](https://radimrehurek.com/gensim/corpora/dictionary.html) class, we must first tokenize our articles.\n",
        "\n"
      ]
    },
    {
      "cell_type": "code",
      "metadata": {
        "id": "2rAMfVfB1PS-",
        "outputId": "795a0653-9562-4c92-f3a0-354768306f9b",
        "colab": {
          "base_uri": "https://localhost:8080/"
        }
      },
      "source": [
        "# identify how many processors your machine has - save the result to `n_processors`\n",
        "n_processors = 11\n",
        "# subtract 1 from n_processors - save the result to `nb_workers`\n",
        "nb_workers = n_processors - 1\n",
        "# initialize just like we did in the guided project\n",
        "pandarallel.initialize(progress_bar=True, nb_workers=nb_workers)"
      ],
      "execution_count": 14,
      "outputs": [
        {
          "output_type": "stream",
          "name": "stdout",
          "text": [
            "INFO: Pandarallel will run on 10 workers.\n",
            "INFO: Pandarallel will use Memory file system to transfer data between the main process and workers.\n"
          ]
        }
      ]
    },
    {
      "cell_type": "code",
      "metadata": {
        "id": "t6pNnk3vzGd-"
      },
      "source": [
        "# load in the spaCy language model\n",
        "nlp = spacy.load(\"en_core_web_md\")"
      ],
      "execution_count": 15,
      "outputs": []
    },
    {
      "cell_type": "code",
      "source": [
        "def tokenizer(text):\n",
        "  return [token.lemma_ for token in nlp(text) if (token.is_stop != True) and (token.is_punct != True)]"
      ],
      "metadata": {
        "id": "ieR1E73oE_XL"
      },
      "execution_count": 16,
      "outputs": []
    },
    {
      "cell_type": "code",
      "metadata": {
        "id": "05x-KJPIBQa2",
        "outputId": "828508dc-5f58-498a-9803-5b599750ded3",
        "colab": {
          "base_uri": "https://localhost:8080/"
        }
      },
      "source": [
        "%%time\n",
        "# create our tokens in the form of lemmas\n",
        "df_electronics['lemmas'] = df_electronics['clean_text'].apply(tokenizer)"
      ],
      "execution_count": 18,
      "outputs": [
        {
          "output_type": "stream",
          "name": "stdout",
          "text": [
            "CPU times: user 2min 8s, sys: 225 ms, total: 2min 8s\n",
            "Wall time: 2min 9s\n"
          ]
        }
      ]
    },
    {
      "cell_type": "code",
      "source": [
        "df_electronics['lemmas'].iloc[0]"
      ],
      "metadata": {
        "id": "MWXoWX0hHDV2",
        "outputId": "ddf55ba6-042c-4181-88ab-b3c603460ccd",
        "colab": {
          "base_uri": "https://localhost:8080/"
        }
      },
      "execution_count": 19,
      "outputs": [
        {
          "output_type": "execute_result",
          "data": {
            "text/plain": [
              "['great', 'case', 'place', 'husband', 'love', 'hold', 'lot', 'cd']"
            ]
          },
          "metadata": {},
          "execution_count": 19
        }
      ]
    },
    {
      "cell_type": "markdown",
      "metadata": {
        "id": "WS7vTVqnzGd_"
      },
      "source": [
        "### Use the corpora class to prep your data for LDA\n",
        "\n",
        "You'll need to create the same `id2word` and `corpus` objects that we created in the guided projects. So be sure to reference the guided project notebook if you need to."
      ]
    },
    {
      "cell_type": "code",
      "metadata": {
        "deletable": false,
        "nbgrader": {
          "cell_type": "code",
          "checksum": "53bf811aebb39e7ed6fc592851f82f8b",
          "grade": false,
          "grade_id": "cell-9d92f28649aa999e",
          "locked": false,
          "schema_version": 3,
          "solution": true,
          "task": false
        },
        "id": "7paL9zS7zGd_",
        "outputId": "dcdae755-31a8-41f8-e6de-c23465552b66",
        "colab": {
          "base_uri": "https://localhost:8080/"
        }
      },
      "source": [
        "# Create lemma dictionary using Dictionary - save result to `id2word`\n",
        "id2word = corpora.Dictionary(df_electronics['lemmas'])\n",
        "\n",
        "print(type(id2word))\n",
        "\n",
        "[id2word[index] for index in range(8)]\n",
        "\n",
        "# Create Term Document Frequency list - save result to `corpus`\n",
        "corpus = [id2word.doc2bow(text) for text in df_electronics['lemmas']]\n",
        "\n",
        "# YOUR CODE HERE\n",
        "from pprint import pprint\n",
        "\n",
        "pprint(corpus[0])"
      ],
      "execution_count": 20,
      "outputs": [
        {
          "output_type": "stream",
          "name": "stdout",
          "text": [
            "<class 'gensim.corpora.dictionary.Dictionary'>\n",
            "[(0, 1), (1, 1), (2, 1), (3, 1), (4, 1), (5, 1), (6, 1), (7, 1)]\n"
          ]
        }
      ]
    },
    {
      "cell_type": "code",
      "source": [
        "print(f'corpus is of type {type(corpus)}, and of length {len(corpus)}\\n')\n",
        "\n",
        "index = 2000\n",
        "print(f' corpus[2000] is {corpus[index]} \\n')\n",
        "print(f' corpus[2000] has {len(corpus[index])} unique words', '\\n')\n",
        "print(f' review {index} has {len(np.unique(df_electronics['lemmas'].iloc[index]))} unique lemmas', '\\n')\n",
        "print(f' review {index} has {sum([count[1] for count in corpus[index]])} total words', '\\n')\n",
        "print(f' reviw {index} has {len(df_electronics['lemmas'].iloc[index])} total lemmas', '\\n')"
      ],
      "metadata": {
        "id": "oTF1To6QLjiK",
        "outputId": "61bc9865-27cd-450a-af00-326316121df9",
        "colab": {
          "base_uri": "https://localhost:8080/"
        }
      },
      "execution_count": 29,
      "outputs": [
        {
          "output_type": "stream",
          "name": "stdout",
          "text": [
            "corpus is of type <class 'list'>, and of length 13995\n",
            "\n",
            " corpus[2000] is [(6, 1), (40, 1), (58, 1), (65, 1), (109, 1), (118, 1), (120, 1), (133, 3), (151, 1), (159, 1), (169, 1), (191, 1), (196, 3), (242, 1), (258, 1), (293, 1), (441, 1), (482, 1), (729, 1), (1021, 1), (1347, 1), (1407, 1), (1507, 2), (1559, 1), (1588, 1), (1746, 1), (1764, 1), (2321, 1), (2330, 1), (2620, 1), (2788, 1), (2932, 2), (3041, 1), (3244, 1), (3739, 1)] \n",
            "\n",
            " corpus[2000] has 35 unique words \n",
            "\n",
            " review 2000 has 35 unique lemmas \n",
            "\n",
            " review 2000 has 41 total words \n",
            "\n",
            " reviw 2000 has 41 total lemmas \n",
            "\n"
          ]
        }
      ]
    },
    {
      "cell_type": "markdown",
      "metadata": {
        "id": "vtmHceiazGd_"
      },
      "source": [
        "## Gridsearch the number of topics\n",
        "\n",
        "Just as we did in the guided project, we're going to run a `for` loop over a range of possible number of topics and then plot the `coherence_values` to determine which number of topics leads to the most sensible grouping of documents."
      ]
    },
    {
      "cell_type": "code",
      "metadata": {
        "id": "FBICFYD4zGeA"
      },
      "source": [
        "def compute_coherence_values(dictionary, corpus, texts, limit, start=2, step=3):\n",
        "    \"\"\"\n",
        "    Compute c_v coherence for various number of topics\n",
        "\n",
        "    Parameters:\n",
        "    ----------\n",
        "    dictionary : Gensim dictionary\n",
        "    corpus : Gensim corpus\n",
        "    texts : List of input texts\n",
        "    limit : Max num of topics\n",
        "\n",
        "    Returns:\n",
        "    -------\n",
        "    model_list : List of LDA topic models\n",
        "    coherence_values : Coherence values corresponding to the LDA model with respective number of topics\n",
        "    \"\"\"\n",
        "    coherence_values = []\n",
        "    model_list = []\n",
        "    for num_topics in range(start, limit, step):\n",
        "        model = gensim.models.ldamulticore.LdaMulticore(corpus=corpus,\n",
        "                                                        id2word=id2word,\n",
        "                                                        num_topics=num_topics,\n",
        "                                                        chunksize=100,\n",
        "                                                        passes=10,\n",
        "                                                        random_state=1234,\n",
        "                                                        per_word_topics=True,\n",
        "                                                        workers=2)\n",
        "        model_list.append(model)\n",
        "        coherencemodel = CoherenceModel(model=model, texts=texts, dictionary=dictionary, coherence='c_v')\n",
        "        coherence_values.append(coherencemodel.get_coherence())\n",
        "\n",
        "    return model_list, coherence_values"
      ],
      "execution_count": 30,
      "outputs": []
    },
    {
      "cell_type": "code",
      "metadata": {
        "id": "Nn20KdDl2HUR",
        "outputId": "8264c550-4d9e-40f2-9f1b-92d6bc250a03",
        "colab": {
          "base_uri": "https://localhost:8080/"
        }
      },
      "source": [
        "%%time\n",
        "model_list, coherence_values = compute_coherence_values(dictionary=id2word, corpus=corpus, texts=df_electronics['lemmas'], start=2, limit=16, step=2)"
      ],
      "execution_count": 31,
      "outputs": [
        {
          "output_type": "stream",
          "name": "stdout",
          "text": [
            "CPU times: user 3min 12s, sys: 9.91 s, total: 3min 22s\n",
            "Wall time: 5min 17s\n"
          ]
        }
      ]
    },
    {
      "cell_type": "code",
      "metadata": {
        "id": "k2kJsVLt2P5-",
        "outputId": "e9c5b7c5-b363-4aa7-898d-1bbac1289ea7",
        "colab": {
          "base_uri": "https://localhost:8080/",
          "height": 487
        }
      },
      "source": [
        "start=2; limit=16;  step=2;\n",
        "x = range(start, limit, step)\n",
        "\n",
        "plt.figure(figsize=(20,5))\n",
        "plt.grid()\n",
        "plt.title(\"Coherence Score vs. Number of Topics\")\n",
        "plt.xticks(x)\n",
        "plt.plot(x, coherence_values, \"-o\")\n",
        "\n",
        "plt.xlabel(\"Num Topics\")\n",
        "plt.ylabel(\"Coherence score\")\n",
        "\n",
        "plt.show();"
      ],
      "execution_count": 32,
      "outputs": [
        {
          "output_type": "display_data",
          "data": {
            "text/plain": [
              "<Figure size 2000x500 with 1 Axes>"
            ],
            "image/png": "[encoded data removed]"
          },
          "metadata": {}
        }
      ]
    },
    {
      "cell_type": "code",
      "metadata": {
        "deletable": false,
        "nbgrader": {
          "cell_type": "code",
          "checksum": "45f72ff929ab8b765d0f0b5f35137f0d",
          "grade": false,
          "grade_id": "cell-e97661faebf1ac3c",
          "locked": false,
          "schema_version": 3,
          "solution": true,
          "task": false
        },
        "id": "1Qx7OVX-zGeB",
        "outputId": "2152db7c-66e7-4a8a-a686-8d80e2c9494a",
        "colab": {
          "base_uri": "https://localhost:8080/"
        }
      },
      "source": [
        "# use np.argmax() to get index of largest coherence value from coherence_values - save result to `max_cohereance_val_index`\n",
        "\n",
        "# use `max_coherence_val_index` to index model_list for the corresponding model - save result to `lda_trained_model`\n",
        "\n",
        "max_coherence_val_index = np.argmax(coherence_values)\n",
        "print(f'Model number {max_coherence_val_index} has the highest coherence value')\n",
        "\n",
        "lda_trained_model = model_list[max_coherence_val_index]"
      ],
      "execution_count": 33,
      "outputs": [
        {
          "output_type": "stream",
          "name": "stdout",
          "text": [
            "Model number 2 has the highest coherence value\n"
          ]
        }
      ]
    },
    {
      "cell_type": "code",
      "metadata": {
        "colab": {
          "base_uri": "https://localhost:8080/"
        },
        "id": "7y-wokYcIg9_",
        "outputId": "772b2660-78a9-4da6-d9f3-8b6e47b1682c"
      },
      "source": [
        "lda_trained_model"
      ],
      "execution_count": 34,
      "outputs": [
        {
          "output_type": "execute_result",
          "data": {
            "text/plain": [
              "<gensim.models.ldamulticore.LdaMulticore at 0x7cbe034ada30>"
            ]
          },
          "metadata": {},
          "execution_count": 34
        }
      ]
    },
    {
      "cell_type": "code",
      "source": [
        "lda_trained_model.show_topics()"
      ],
      "metadata": {
        "id": "NcM8FQfKSxbG",
        "outputId": "af775eda-5cf9-46a7-9d28-2a4e3298a5d8",
        "colab": {
          "base_uri": "https://localhost:8080/"
        }
      },
      "execution_count": 35,
      "outputs": [
        {
          "output_type": "execute_result",
          "data": {
            "text/plain": [
              "[(0,\n",
              "  '0.060*\"not\" + 0.014*\"app\" + 0.014*\"device\" + 0.013*\"like\" + 0.013*\"amazon\" + 0.012*\"work\" + 0.012*\"screen\" + 0.011*\"charge\" + 0.009*\"thing\" + 0.009*\"time\"'),\n",
              " (1,\n",
              "  '0.063*\"tablet\" + 0.055*\"app\" + 0.036*\"amazon\" + 0.031*\"play\" + 0.028*\"game\" + 0.028*\"kid\" + 0.026*\"use\" + 0.022*\"great\" + 0.020*\"lot\" + 0.019*\"download\"'),\n",
              " (2,\n",
              "  '0.077*\"love\" + 0.048*\"buy\" + 0.041*\"old\" + 0.040*\"year\" + 0.038*\"tablet\" + 0.024*\"kid\" + 0.024*\"use\" + 0.022*\"gift\" + 0.020*\"great\" + 0.020*\"purchase\"'),\n",
              " (3,\n",
              "  '0.064*\"kindle\" + 0.056*\"fire\" + 0.040*\"book\" + 0.039*\"read\" + 0.029*\"love\" + 0.025*\"buy\" + 0.019*\"watch\" + 0.018*\"new\" + 0.016*\"purchase\" + 0.015*\"8\"'),\n",
              " (4,\n",
              "  '0.104*\"tablet\" + 0.088*\"great\" + 0.077*\"good\" + 0.065*\"price\" + 0.024*\"product\" + 0.019*\"work\" + 0.017*\"amazon\" + 0.017*\"buy\" + 0.017*\"recommend\" + 0.015*\"quality\"'),\n",
              " (5,\n",
              "  '0.066*\"easy\" + 0.050*\"screen\" + 0.048*\"use\" + 0.036*\"size\" + 0.029*\"battery\" + 0.028*\"great\" + 0.022*\"nice\" + 0.019*\"life\" + 0.017*\"light\" + 0.014*\"small\"')]"
            ]
          },
          "metadata": {},
          "execution_count": 35
        }
      ]
    },
    {
      "cell_type": "markdown",
      "metadata": {
        "id": "LwGY4o8fzGeB"
      },
      "source": [
        "## Use pyLDAvis to visualize your topics\n",
        "\n",
        "Take a look at the topic bubbles and bar chart for the terms on the right hand side.  \n",
        "\n",
        "- Describe the topic bubbles.\n",
        "- Do they overlap or not?\n",
        "- What does it mean when they overlap?\n",
        "- What does it mean when they don't overlap?\n",
        "- Are the terms in each topic distinct from the topics in the other topic bubbles?\n"
      ]
    },
    {
      "cell_type": "code",
      "metadata": {
        "id": "9poWZ8WgItYS",
        "colab": {
          "base_uri": "https://localhost:8080/"
        },
        "outputId": "41a849d5-2cee-4934-a70d-719785c02a98"
      },
      "source": [
        "!pip install ipywidgets"
      ],
      "execution_count": 36,
      "outputs": [
        {
          "output_type": "stream",
          "name": "stdout",
          "text": [
            "Requirement already satisfied: ipywidgets in /usr/local/lib/python3.12/dist-packages (7.7.1)\n",
            "Requirement already satisfied: ipykernel>=4.5.1 in /usr/local/lib/python3.12/dist-packages (from ipywidgets) (6.17.1)\n",
            "Requirement already satisfied: ipython-genutils~=0.2.0 in /usr/local/lib/python3.12/dist-packages (from ipywidgets) (0.2.0)\n",
            "Requirement already satisfied: traitlets>=4.3.1 in /usr/local/lib/python3.12/dist-packages (from ipywidgets) (5.7.1)\n",
            "Requirement already satisfied: widgetsnbextension~=3.6.0 in /usr/local/lib/python3.12/dist-packages (from ipywidgets) (3.6.10)\n",
            "Requirement already satisfied: ipython>=4.0.0 in /usr/local/lib/python3.12/dist-packages (from ipywidgets) (7.34.0)\n",
            "Requirement already satisfied: jupyterlab-widgets>=1.0.0 in /usr/local/lib/python3.12/dist-packages (from ipywidgets) (3.0.15)\n",
            "Requirement already satisfied: debugpy>=1.0 in /usr/local/lib/python3.12/dist-packages (from ipykernel>=4.5.1->ipywidgets) (1.8.15)\n",
            "Requirement already satisfied: jupyter-client>=6.1.12 in /usr/local/lib/python3.12/dist-packages (from ipykernel>=4.5.1->ipywidgets) (7.4.9)\n",
            "Requirement already satisfied: matplotlib-inline>=0.1 in /usr/local/lib/python3.12/dist-packages (from ipykernel>=4.5.1->ipywidgets) (0.1.7)\n",
            "Requirement already satisfied: nest-asyncio in /usr/local/lib/python3.12/dist-packages (from ipykernel>=4.5.1->ipywidgets) (1.6.0)\n",
            "Requirement already satisfied: packaging in /usr/local/lib/python3.12/dist-packages (from ipykernel>=4.5.1->ipywidgets) (25.0)\n",
            "Requirement already satisfied: psutil in /usr/local/lib/python3.12/dist-packages (from ipykernel>=4.5.1->ipywidgets) (5.9.5)\n",
            "Requirement already satisfied: pyzmq>=17 in /usr/local/lib/python3.12/dist-packages (from ipykernel>=4.5.1->ipywidgets) (26.2.1)\n",
            "Requirement already satisfied: tornado>=6.1 in /usr/local/lib/python3.12/dist-packages (from ipykernel>=4.5.1->ipywidgets) (6.4.2)\n",
            "Requirement already satisfied: setuptools>=18.5 in /usr/local/lib/python3.12/dist-packages (from ipython>=4.0.0->ipywidgets) (75.2.0)\n",
            "Collecting jedi>=0.16 (from ipython>=4.0.0->ipywidgets)\n",
            "  Downloading jedi-0.19.2-py2.py3-none-any.whl.metadata (22 kB)\n",
            "Requirement already satisfied: decorator in /usr/local/lib/python3.12/dist-packages (from ipython>=4.0.0->ipywidgets) (4.4.2)\n",
            "Requirement already satisfied: pickleshare in /usr/local/lib/python3.12/dist-packages (from ipython>=4.0.0->ipywidgets) (0.7.5)\n",
            "Requirement already satisfied: prompt-toolkit!=3.0.0,!=3.0.1,<3.1.0,>=2.0.0 in /usr/local/lib/python3.12/dist-packages (from ipython>=4.0.0->ipywidgets) (3.0.52)\n",
            "Requirement already satisfied: pygments in /usr/local/lib/python3.12/dist-packages (from ipython>=4.0.0->ipywidgets) (2.19.2)\n",
            "Requirement already satisfied: backcall in /usr/local/lib/python3.12/dist-packages (from ipython>=4.0.0->ipywidgets) (0.2.0)\n",
            "Requirement already satisfied: pexpect>4.3 in /usr/local/lib/python3.12/dist-packages (from ipython>=4.0.0->ipywidgets) (4.9.0)\n",
            "Requirement already satisfied: notebook>=4.4.1 in /usr/local/lib/python3.12/dist-packages (from widgetsnbextension~=3.6.0->ipywidgets) (6.5.7)\n",
            "Requirement already satisfied: parso<0.9.0,>=0.8.4 in /usr/local/lib/python3.12/dist-packages (from jedi>=0.16->ipython>=4.0.0->ipywidgets) (0.8.5)\n",
            "Requirement already satisfied: entrypoints in /usr/local/lib/python3.12/dist-packages (from jupyter-client>=6.1.12->ipykernel>=4.5.1->ipywidgets) (0.4)\n",
            "Requirement already satisfied: jupyter-core>=4.9.2 in /usr/local/lib/python3.12/dist-packages (from jupyter-client>=6.1.12->ipykernel>=4.5.1->ipywidgets) (5.8.1)\n",
            "Requirement already satisfied: python-dateutil>=2.8.2 in /usr/local/lib/python3.12/dist-packages (from jupyter-client>=6.1.12->ipykernel>=4.5.1->ipywidgets) (2.9.0.post0)\n",
            "Requirement already satisfied: jinja2 in /usr/local/lib/python3.12/dist-packages (from notebook>=4.4.1->widgetsnbextension~=3.6.0->ipywidgets) (3.1.6)\n",
            "Requirement already satisfied: argon2-cffi in /usr/local/lib/python3.12/dist-packages (from notebook>=4.4.1->widgetsnbextension~=3.6.0->ipywidgets) (25.1.0)\n",
            "Requirement already satisfied: nbformat in /usr/local/lib/python3.12/dist-packages (from notebook>=4.4.1->widgetsnbextension~=3.6.0->ipywidgets) (5.10.4)\n",
            "Requirement already satisfied: nbconvert>=5 in /usr/local/lib/python3.12/dist-packages (from notebook>=4.4.1->widgetsnbextension~=3.6.0->ipywidgets) (7.16.6)\n",
            "Requirement already satisfied: Send2Trash>=1.8.0 in /usr/local/lib/python3.12/dist-packages (from notebook>=4.4.1->widgetsnbextension~=3.6.0->ipywidgets) (1.8.3)\n",
            "Requirement already satisfied: terminado>=0.8.3 in /usr/local/lib/python3.12/dist-packages (from notebook>=4.4.1->widgetsnbextension~=3.6.0->ipywidgets) (0.18.1)\n",
            "Requirement already satisfied: prometheus-client in /usr/local/lib/python3.12/dist-packages (from notebook>=4.4.1->widgetsnbextension~=3.6.0->ipywidgets) (0.22.1)\n",
            "Requirement already satisfied: nbclassic>=0.4.7 in /usr/local/lib/python3.12/dist-packages (from notebook>=4.4.1->widgetsnbextension~=3.6.0->ipywidgets) (1.3.2)\n",
            "Requirement already satisfied: ptyprocess>=0.5 in /usr/local/lib/python3.12/dist-packages (from pexpect>4.3->ipython>=4.0.0->ipywidgets) (0.7.0)\n",
            "Requirement already satisfied: wcwidth in /usr/local/lib/python3.12/dist-packages (from prompt-toolkit!=3.0.0,!=3.0.1,<3.1.0,>=2.0.0->ipython>=4.0.0->ipywidgets) (0.2.13)\n",
            "Requirement already satisfied: platformdirs>=2.5 in /usr/local/lib/python3.12/dist-packages (from jupyter-core>=4.9.2->jupyter-client>=6.1.12->ipykernel>=4.5.1->ipywidgets) (4.4.0)\n",
            "Requirement already satisfied: notebook-shim>=0.2.3 in /usr/local/lib/python3.12/dist-packages (from nbclassic>=0.4.7->notebook>=4.4.1->widgetsnbextension~=3.6.0->ipywidgets) (0.2.4)\n",
            "Requirement already satisfied: beautifulsoup4 in /usr/local/lib/python3.12/dist-packages (from nbconvert>=5->notebook>=4.4.1->widgetsnbextension~=3.6.0->ipywidgets) (4.13.5)\n",
            "Requirement already satisfied: bleach!=5.0.0 in /usr/local/lib/python3.12/dist-packages (from bleach[css]!=5.0.0->nbconvert>=5->notebook>=4.4.1->widgetsnbextension~=3.6.0->ipywidgets) (6.2.0)\n",
            "Requirement already satisfied: defusedxml in /usr/local/lib/python3.12/dist-packages (from nbconvert>=5->notebook>=4.4.1->widgetsnbextension~=3.6.0->ipywidgets) (0.7.1)\n",
            "Requirement already satisfied: jupyterlab-pygments in /usr/local/lib/python3.12/dist-packages (from nbconvert>=5->notebook>=4.4.1->widgetsnbextension~=3.6.0->ipywidgets) (0.3.0)\n",
            "Requirement already satisfied: markupsafe>=2.0 in /usr/local/lib/python3.12/dist-packages (from nbconvert>=5->notebook>=4.4.1->widgetsnbextension~=3.6.0->ipywidgets) (3.0.2)\n",
            "Requirement already satisfied: mistune<4,>=2.0.3 in /usr/local/lib/python3.12/dist-packages (from nbconvert>=5->notebook>=4.4.1->widgetsnbextension~=3.6.0->ipywidgets) (3.1.4)\n",
            "Requirement already satisfied: nbclient>=0.5.0 in /usr/local/lib/python3.12/dist-packages (from nbconvert>=5->notebook>=4.4.1->widgetsnbextension~=3.6.0->ipywidgets) (0.10.2)\n",
            "Requirement already satisfied: pandocfilters>=1.4.1 in /usr/local/lib/python3.12/dist-packages (from nbconvert>=5->notebook>=4.4.1->widgetsnbextension~=3.6.0->ipywidgets) (1.5.1)\n",
            "Requirement already satisfied: fastjsonschema>=2.15 in /usr/local/lib/python3.12/dist-packages (from nbformat->notebook>=4.4.1->widgetsnbextension~=3.6.0->ipywidgets) (2.21.2)\n",
            "Requirement already satisfied: jsonschema>=2.6 in /usr/local/lib/python3.12/dist-packages (from nbformat->notebook>=4.4.1->widgetsnbextension~=3.6.0->ipywidgets) (4.25.1)\n",
            "Requirement already satisfied: six>=1.5 in /usr/local/lib/python3.12/dist-packages (from python-dateutil>=2.8.2->jupyter-client>=6.1.12->ipykernel>=4.5.1->ipywidgets) (1.17.0)\n",
            "Requirement already satisfied: argon2-cffi-bindings in /usr/local/lib/python3.12/dist-packages (from argon2-cffi->notebook>=4.4.1->widgetsnbextension~=3.6.0->ipywidgets) (25.1.0)\n",
            "Requirement already satisfied: webencodings in /usr/local/lib/python3.12/dist-packages (from bleach!=5.0.0->bleach[css]!=5.0.0->nbconvert>=5->notebook>=4.4.1->widgetsnbextension~=3.6.0->ipywidgets) (0.5.1)\n",
            "Requirement already satisfied: tinycss2<1.5,>=1.1.0 in /usr/local/lib/python3.12/dist-packages (from bleach[css]!=5.0.0->nbconvert>=5->notebook>=4.4.1->widgetsnbextension~=3.6.0->ipywidgets) (1.4.0)\n",
            "Requirement already satisfied: attrs>=22.2.0 in /usr/local/lib/python3.12/dist-packages (from jsonschema>=2.6->nbformat->notebook>=4.4.1->widgetsnbextension~=3.6.0->ipywidgets) (25.3.0)\n",
            "Requirement already satisfied: jsonschema-specifications>=2023.03.6 in /usr/local/lib/python3.12/dist-packages (from jsonschema>=2.6->nbformat->notebook>=4.4.1->widgetsnbextension~=3.6.0->ipywidgets) (2025.9.1)\n",
            "Requirement already satisfied: referencing>=0.28.4 in /usr/local/lib/python3.12/dist-packages (from jsonschema>=2.6->nbformat->notebook>=4.4.1->widgetsnbextension~=3.6.0->ipywidgets) (0.36.2)\n",
            "Requirement already satisfied: rpds-py>=0.7.1 in /usr/local/lib/python3.12/dist-packages (from jsonschema>=2.6->nbformat->notebook>=4.4.1->widgetsnbextension~=3.6.0->ipywidgets) (0.27.1)\n",
            "Requirement already satisfied: jupyter-server<3,>=1.8 in /usr/local/lib/python3.12/dist-packages (from notebook-shim>=0.2.3->nbclassic>=0.4.7->notebook>=4.4.1->widgetsnbextension~=3.6.0->ipywidgets) (2.14.0)\n",
            "Requirement already satisfied: cffi>=1.0.1 in /usr/local/lib/python3.12/dist-packages (from argon2-cffi-bindings->argon2-cffi->notebook>=4.4.1->widgetsnbextension~=3.6.0->ipywidgets) (2.0.0)\n",
            "Requirement already satisfied: soupsieve>1.2 in /usr/local/lib/python3.12/dist-packages (from beautifulsoup4->nbconvert>=5->notebook>=4.4.1->widgetsnbextension~=3.6.0->ipywidgets) (2.8)\n",
            "Requirement already satisfied: typing-extensions>=4.0.0 in /usr/local/lib/python3.12/dist-packages (from beautifulsoup4->nbconvert>=5->notebook>=4.4.1->widgetsnbextension~=3.6.0->ipywidgets) (4.15.0)\n",
            "Requirement already satisfied: pycparser in /usr/local/lib/python3.12/dist-packages (from cffi>=1.0.1->argon2-cffi-bindings->argon2-cffi->notebook>=4.4.1->widgetsnbextension~=3.6.0->ipywidgets) (2.23)\n",
            "Requirement already satisfied: anyio>=3.1.0 in /usr/local/lib/python3.12/dist-packages (from jupyter-server<3,>=1.8->notebook-shim>=0.2.3->nbclassic>=0.4.7->notebook>=4.4.1->widgetsnbextension~=3.6.0->ipywidgets) (4.10.0)\n",
            "Requirement already satisfied: jupyter-events>=0.9.0 in /usr/local/lib/python3.12/dist-packages (from jupyter-server<3,>=1.8->notebook-shim>=0.2.3->nbclassic>=0.4.7->notebook>=4.4.1->widgetsnbextension~=3.6.0->ipywidgets) (0.12.0)\n",
            "Requirement already satisfied: jupyter-server-terminals>=0.4.4 in /usr/local/lib/python3.12/dist-packages (from jupyter-server<3,>=1.8->notebook-shim>=0.2.3->nbclassic>=0.4.7->notebook>=4.4.1->widgetsnbextension~=3.6.0->ipywidgets) (0.5.3)\n",
            "Requirement already satisfied: overrides>=5.0 in /usr/local/lib/python3.12/dist-packages (from jupyter-server<3,>=1.8->notebook-shim>=0.2.3->nbclassic>=0.4.7->notebook>=4.4.1->widgetsnbextension~=3.6.0->ipywidgets) (7.7.0)\n",
            "Requirement already satisfied: websocket-client>=1.7 in /usr/local/lib/python3.12/dist-packages (from jupyter-server<3,>=1.8->notebook-shim>=0.2.3->nbclassic>=0.4.7->notebook>=4.4.1->widgetsnbextension~=3.6.0->ipywidgets) (1.8.0)\n",
            "Requirement already satisfied: idna>=2.8 in /usr/local/lib/python3.12/dist-packages (from anyio>=3.1.0->jupyter-server<3,>=1.8->notebook-shim>=0.2.3->nbclassic>=0.4.7->notebook>=4.4.1->widgetsnbextension~=3.6.0->ipywidgets) (3.10)\n",
            "Requirement already satisfied: sniffio>=1.1 in /usr/local/lib/python3.12/dist-packages (from anyio>=3.1.0->jupyter-server<3,>=1.8->notebook-shim>=0.2.3->nbclassic>=0.4.7->notebook>=4.4.1->widgetsnbextension~=3.6.0->ipywidgets) (1.3.1)\n",
            "Requirement already satisfied: python-json-logger>=2.0.4 in /usr/local/lib/python3.12/dist-packages (from jupyter-events>=0.9.0->jupyter-server<3,>=1.8->notebook-shim>=0.2.3->nbclassic>=0.4.7->notebook>=4.4.1->widgetsnbextension~=3.6.0->ipywidgets) (3.3.0)\n",
            "Requirement already satisfied: pyyaml>=5.3 in /usr/local/lib/python3.12/dist-packages (from jupyter-events>=0.9.0->jupyter-server<3,>=1.8->notebook-shim>=0.2.3->nbclassic>=0.4.7->notebook>=4.4.1->widgetsnbextension~=3.6.0->ipywidgets) (6.0.2)\n",
            "Requirement already satisfied: rfc3339-validator in /usr/local/lib/python3.12/dist-packages (from jupyter-events>=0.9.0->jupyter-server<3,>=1.8->notebook-shim>=0.2.3->nbclassic>=0.4.7->notebook>=4.4.1->widgetsnbextension~=3.6.0->ipywidgets) (0.1.4)\n",
            "Requirement already satisfied: rfc3986-validator>=0.1.1 in /usr/local/lib/python3.12/dist-packages (from jupyter-events>=0.9.0->jupyter-server<3,>=1.8->notebook-shim>=0.2.3->nbclassic>=0.4.7->notebook>=4.4.1->widgetsnbextension~=3.6.0->ipywidgets) (0.1.1)\n",
            "Requirement already satisfied: fqdn in /usr/local/lib/python3.12/dist-packages (from jsonschema[format-nongpl]>=4.18.0->jupyter-events>=0.9.0->jupyter-server<3,>=1.8->notebook-shim>=0.2.3->nbclassic>=0.4.7->notebook>=4.4.1->widgetsnbextension~=3.6.0->ipywidgets) (1.5.1)\n",
            "Requirement already satisfied: isoduration in /usr/local/lib/python3.12/dist-packages (from jsonschema[format-nongpl]>=4.18.0->jupyter-events>=0.9.0->jupyter-server<3,>=1.8->notebook-shim>=0.2.3->nbclassic>=0.4.7->notebook>=4.4.1->widgetsnbextension~=3.6.0->ipywidgets) (20.11.0)\n",
            "Requirement already satisfied: jsonpointer>1.13 in /usr/local/lib/python3.12/dist-packages (from jsonschema[format-nongpl]>=4.18.0->jupyter-events>=0.9.0->jupyter-server<3,>=1.8->notebook-shim>=0.2.3->nbclassic>=0.4.7->notebook>=4.4.1->widgetsnbextension~=3.6.0->ipywidgets) (3.0.0)\n",
            "Requirement already satisfied: rfc3987-syntax>=1.1.0 in /usr/local/lib/python3.12/dist-packages (from jsonschema[format-nongpl]>=4.18.0->jupyter-events>=0.9.0->jupyter-server<3,>=1.8->notebook-shim>=0.2.3->nbclassic>=0.4.7->notebook>=4.4.1->widgetsnbextension~=3.6.0->ipywidgets) (1.1.0)\n",
            "Requirement already satisfied: uri-template in /usr/local/lib/python3.12/dist-packages (from jsonschema[format-nongpl]>=4.18.0->jupyter-events>=0.9.0->jupyter-server<3,>=1.8->notebook-shim>=0.2.3->nbclassic>=0.4.7->notebook>=4.4.1->widgetsnbextension~=3.6.0->ipywidgets) (1.3.0)\n",
            "Requirement already satisfied: webcolors>=24.6.0 in /usr/local/lib/python3.12/dist-packages (from jsonschema[format-nongpl]>=4.18.0->jupyter-events>=0.9.0->jupyter-server<3,>=1.8->notebook-shim>=0.2.3->nbclassic>=0.4.7->notebook>=4.4.1->widgetsnbextension~=3.6.0->ipywidgets) (24.11.1)\n",
            "Requirement already satisfied: lark>=1.2.2 in /usr/local/lib/python3.12/dist-packages (from rfc3987-syntax>=1.1.0->jsonschema[format-nongpl]>=4.18.0->jupyter-events>=0.9.0->jupyter-server<3,>=1.8->notebook-shim>=0.2.3->nbclassic>=0.4.7->notebook>=4.4.1->widgetsnbextension~=3.6.0->ipywidgets) (1.2.2)\n",
            "Requirement already satisfied: arrow>=0.15.0 in /usr/local/lib/python3.12/dist-packages (from isoduration->jsonschema[format-nongpl]>=4.18.0->jupyter-events>=0.9.0->jupyter-server<3,>=1.8->notebook-shim>=0.2.3->nbclassic>=0.4.7->notebook>=4.4.1->widgetsnbextension~=3.6.0->ipywidgets) (1.3.0)\n",
            "Requirement already satisfied: types-python-dateutil>=2.8.10 in /usr/local/lib/python3.12/dist-packages (from arrow>=0.15.0->isoduration->jsonschema[format-nongpl]>=4.18.0->jupyter-events>=0.9.0->jupyter-server<3,>=1.8->notebook-shim>=0.2.3->nbclassic>=0.4.7->notebook>=4.4.1->widgetsnbextension~=3.6.0->ipywidgets) (2.9.0.20250822)\n",
            "Downloading jedi-0.19.2-py2.py3-none-any.whl (1.6 MB)\n",
            "\u001b[2K   \u001b[90m━━━━━━━━━━━━━━━━━━━━━━━━━━━━━━━━━━━━━━━━\u001b[0m \u001b[32m1.6/1.6 MB\u001b[0m \u001b[31m42.4 MB/s\u001b[0m eta \u001b[36m0:00:00\u001b[0m\n",
            "\u001b[?25hInstalling collected packages: jedi\n",
            "Successfully installed jedi-0.19.2\n"
          ]
        }
      ]
    },
    {
      "cell_type": "code",
      "metadata": {
        "id": "YBqK345s2oYC",
        "outputId": "489ee66f-98a7-43e9-dfd9-69ac77af156a",
        "colab": {
          "base_uri": "https://localhost:8080/",
          "height": 861
        }
      },
      "source": [
        "# plot your topics here -- using pyLDAvis\n",
        "pyLDAvis.enable_notebook()\n",
        "vis = pyLDAvis.gensim_models.prepare(topic_model=lda_trained_model,\n",
        "                                     corpus=corpus,\n",
        "                                     dictionary=id2word)\n",
        "vis"
      ],
      "execution_count": 37,
      "outputs": [
        {
          "output_type": "execute_result",
          "data": {
            "text/plain": [
              "PreparedData(topic_coordinates=              x         y  topics  cluster       Freq\n",
              "topic                                                \n",
              "2     -0.178680 -0.009376       1        1  20.058330\n",
              "0      0.156298  0.253729       2        1  19.907229\n",
              "3     -0.178751  0.128068       3        1  17.282037\n",
              "4      0.033533 -0.227560       4        1  16.508794\n",
              "1     -0.069764 -0.076760       5        1  13.445397\n",
              "5      0.237365 -0.068101       6        1  12.798213, topic_info=         Term         Freq        Total Category  logprob  loglift\n",
              "721    tablet  6744.000000  6744.000000  Default  30.0000  30.0000\n",
              "117     price  2118.000000  2118.000000  Default  29.0000  29.0000\n",
              "1029   kindle  2240.000000  2240.000000  Default  28.0000  28.0000\n",
              "2       great  4931.000000  4931.000000  Default  27.0000  27.0000\n",
              "6        love  4343.000000  4343.000000  Default  26.0000  26.0000\n",
              "...       ...          ...          ...      ...      ...      ...\n",
              "188    device   200.599600   848.103051   Topic6  -4.8300   0.6142\n",
              "164       set   172.779084   643.272046   Topic6  -4.9793   0.7413\n",
              "94       good   214.706129  3153.608229   Topic6  -4.7621  -0.6312\n",
              "120   product   161.605164  1197.796743   Topic6  -5.0462   0.0528\n",
              "6        love   161.585432  4343.641726   Topic6  -5.0463  -1.2356\n",
              "\n",
              "[374 rows x 6 columns], token_table=      Topic      Freq   Term\n",
              "term                        \n",
              "3228      5  0.985370    128\n",
              "58        1  0.997823      2\n",
              "156       3  0.981665    2nd\n",
              "60        1  0.929778      3\n",
              "60        2  0.068033      3\n",
              "...     ...       ...    ...\n",
              "1045      2  0.996205  wrong\n",
              "1067      1  0.976051   year\n",
              "1067      3  0.023776   year\n",
              "1419      5  0.993922  young\n",
              "1559      1  0.994323     yr\n",
              "\n",
              "[511 rows x 3 columns], R=30, lambda_step=0.01, plot_opts={'xlab': 'PC1', 'ylab': 'PC2'}, topic_order=[3, 1, 4, 5, 2, 6])"
            ],
            "text/html": [
              "\n",
              "<link rel=\"stylesheet\" type=\"text/css\" href=\"https://cdn.jsdelivr.net/gh/bmabey/pyLDAvis@3.4.0/pyLDAvis/js/ldavis.v1.0.0.css\">\n",
              "\n",
              "\n",
              "<div id=\"ldavis_el11641371604056351528444218515\" style=\"background-color:white;\"></div>\n",
              "<script type=\"text/javascript\">\n",
              "\n",
              "var ldavis_el11641371604056351528444218515_data = {\"mdsDat\": {\"x\": [-0.17867995635987233, 0.15629778140315045, -0.17875100937748406, 0.03353305425384226, -0.06976447855385859, 0.2373646086342225], \"y\": [-0.009376152043836702, 0.25372942377897184, 0.12806814222330415, -0.22756003750247425, -0.07676049334255994, -0.06810088311340491], \"topics\": [1, 2, 3, 4, 5, 6], \"cluster\": [1, 1, 1, 1, 1, 1], \"Freq\": [20.058329822908842, 19.90722905516014, 17.282037039682194, 16.50879431203547, 13.445397092630609, 12.798212677582752]}, \"tinfo\": {\"Term\": [\"tablet\", \"price\", \"kindle\", \"great\", \"love\", \"good\", \"easy\", \"not\", \"fire\", \"app\", \"screen\", \"year\", \"book\", \"old\", \"buy\", \"read\", \"size\", \"use\", \"kid\", \"amazon\", \"battery\", \"play\", \"gift\", \"game\", \"son\", \"nice\", \"daughter\", \"watch\", \"life\", \"new\", \"gift\", \"son\", \"daughter\", \"christmas\", \"2\", \"control\", \"grandson\", \"parental\", \"granddaughter\", \"android\", \"age\", \"durable\", \"yr\", \"absolutely\", \"warranty\", \"educational\", \"present\", \"husband\", \"mother\", \"niece\", \"thank\", \"birthday\", \"9\", \"parent\", \"samsung\", \"tech\", \"grandkid\", \"stop\", \"person\", \"bring\", \"year\", \"4\", \"3\", \"old\", \"love\", \"buy\", \"drop\", \"kid\", \"purchase\", \"case\", \"get\", \"tablet\", \"use\", \"replace\", \"easy\", \"great\", \"time\", \"play\", \"game\", \"set\", \"perfect\", \"child\", \"slow\", \"beat\", \"low\", \"return\", \"wifi\", \"ad\", \"apple\", \"will\", \"let\", \"school\", \"spend\", \"keyboard\", \"bad\", \"charger\", \"couple\", \"wrong\", \"freeze\", \"photo\", \"probably\", \"dollar\", \"close\", \"button\", \"port\", \"instal\", \"believe\", \"powerful\", \"perform\", \"real\", \"site\", \"lag\", \"not\", \"turn\", \"fine\", \"charge\", \"ok\", \"load\", \"try\", \"issue\", \"friendly\", \"user\", \"device\", \"find\", \"know\", \"take\", \"problem\", \"thing\", \"store\", \"like\", \"app\", \"come\", \"work\", \"amazon\", \"screen\", \"m\", \"ipad\", \"time\", \"think\", \"want\", \"book\", \"7\", \"email\", \"friday\", \"upgrade\", \"surf\", \"check\", \"6\", \"tv\", \"decide\", \"inch\", \"trip\", \"last\", \"christma\", \"own\", \"nook\", \"ago\", \"everyday\", \"boy\", \"2nd\", \"savvy\", \"variety\", \"primarily\", \"die\", \"finally\", \"past\", \"selection\", \"exchange\", \"transfer\", \"magazine\", \"kindle\", \"new\", \"fire\", \"listen\", \"read\", \"wife\", \"library\", \"watch\", \"hd8\", \"8\", \"facebook\", \"model\", \"movie\", \"reading\", \"internet\", \"happy\", \"web\", \"well\", \"love\", \"buy\", \"purchase\", \"black\", \"far\", \"get\", \"old\", \"game\", \"want\", \"like\", \"use\", \"enjoy\", \"quality\", \"value\", \"deal\", \"basic\", \"display\", \"highly\", \"price\", \"expensive\", \"adult\", \"affordable\", \"entertain\", \"beginner\", \"definitely\", \"playing\", \"performance\", \"alternative\", \"social\", \"streaming\", \"bumper\", \"starter\", \"advertise\", \"college\", \"reasonable\", \"trouble\", \"win\", \"downside\", \"bulky\", \"benefit\", \"range\", \"task\", \"high\", \"cheap\", \"sound\", \"good\", \"worth\", \"browse\", \"money\", \"medium\", \"sale\", \"great\", \"recommend\", \"product\", \"tablet\", \"camera\", \"excellent\", \"overall\", \"prime\", \"work\", \"look\", \"ipad\", \"fast\", \"video\", \"amazon\", \"nice\", \"need\", \"buy\", \"kid\", \"well\", \"feature\", \"hd\", \"want\", \"purchase\", \"use\", \"learn\", \"google\", \"card\", \"memory\", \"gb\", \"mom\", \"navigate\", \"sd\", \"young\", \"toddler\", \"learning\", \"grand\", \"profile\", \"lock\", \"edition\", \"install\", \"freetime\", \"micro\", \"meet\", \"annoying\", \"sturdy\", \"128\", \"subscription\", \"ram\", \"application\", \"hulu\", \"silk\", \"explore\", \"idea\", \"underground\", \"content\", \"available\", \"app\", \"lot\", \"download\", \"play\", \"limit\", \"access\", \"free\", \"storage\", \"game\", \"amazon\", \"child\", \"hd\", \"tablet\", \"kid\", \"store\", \"use\", \"allow\", \"great\", \"movie\", \"easy\", \"fire\", \"like\", \"need\", \"time\", \"good\", \"size\", \"battery\", \"life\", \"light\", \"color\", \"reader\", \"carry\", \"fit\", \"weight\", \"tool\", \"quick\", \"lightweight\", \"function\", \"bright\", \"strong\", \"operate\", \"design\", \"sharp\", \"improvement\", \"blue\", \"clarity\", \"purse\", \"loading\", \"browsing\", \"functional\", \"crisp\", \"nexus\", \"late\", \"forward\", \"adjust\", \"small\", \"hand\", \"screen\", \"clear\", \"easy\", \"nice\", \"original\", \"large\", \"travel\", \"use\", \"big\", \"hold\", \"perfect\", \"long\", \"great\", \"right\", \"like\", \"read\", \"fast\", \"device\", \"set\", \"good\", \"product\", \"love\"], \"Freq\": [6744.0, 2118.0, 2240.0, 4931.0, 4343.0, 3153.0, 2673.0, 2767.0, 2237.0, 2006.0, 1715.0, 1598.0, 1351.0, 2011.0, 3276.0, 1592.0, 914.0, 3418.0, 2080.0, 2141.0, 734.0, 1322.0, 880.0, 1499.0, 746.0, 881.0, 715.0, 833.0, 490.0, 684.0, 879.8838361276439, 745.5119255196947, 714.1583355038069, 609.6290272373392, 534.2864955408784, 403.2591203855784, 366.7618369293642, 344.9522570419817, 289.77138166535894, 275.8762931095811, 247.00410246489486, 215.91527350718593, 202.27772342031034, 200.27847771193652, 191.96833880582, 184.85221856095657, 158.38850479980056, 157.44177732977033, 153.9682068367194, 143.3827048339566, 141.7225175297977, 138.8984759569103, 131.03031735220074, 130.35280548145144, 128.25850206573247, 124.69449338944221, 121.93657333818128, 96.20452253590445, 84.83862342809002, 82.46007262830116, 1559.948763866106, 306.19659457278823, 327.76388775339586, 1617.6793232460507, 3013.6349813538, 1880.4057376964881, 191.98419550562784, 951.6559156449446, 768.3572320419248, 348.9882912578119, 580.1118813679831, 1479.8028070088947, 951.2884068382998, 250.16413192498234, 611.7439993571429, 785.5815309624452, 379.67142700922324, 394.76572202515086, 395.9038847739017, 289.99768335221194, 301.98822644378623, 262.9577022902936, 316.78124055255665, 311.68218955234744, 289.4478383407668, 253.32440867153917, 247.69915132716523, 232.22770600633913, 177.48447130748247, 160.81180986545607, 148.45712239955148, 147.8024618876664, 142.2608939663522, 135.5157811746743, 129.31397647882983, 121.2898527892117, 117.42485691207733, 112.59289342822223, 105.68048366051254, 101.31642592164934, 98.73158712368408, 91.65014291474648, 90.36349990529025, 89.6896181161307, 86.68340307305947, 86.30289819510651, 84.40356673876498, 83.76884614159154, 83.52994922546156, 75.95360488425709, 73.96831893242731, 74.1263191051583, 2359.3061366435954, 166.64134217550722, 199.67317539678984, 448.34170494992696, 135.08346162783562, 219.21976801339449, 247.58398740369384, 264.90114837004467, 277.8540514706511, 301.42905265959075, 529.9171695699154, 321.0837865654709, 235.53671302071118, 274.26099163840246, 250.96602253636195, 348.79732069148054, 297.0184563241652, 515.4440662927809, 544.5202461597321, 264.1004043315382, 468.1164967911922, 510.83085058678654, 454.59112165015125, 265.3435561310326, 322.01932515516216, 346.66087526758724, 224.1710889885504, 252.3007596740483, 1350.1028712501713, 455.89750820189096, 316.871584461033, 273.550571668462, 263.20578393184144, 227.57515875895223, 192.28750402875278, 169.9429362535432, 161.0015554547831, 158.968387500972, 150.61374439392185, 139.5201075852659, 106.95016391004435, 92.87636429203904, 81.80810871761759, 75.44010393397724, 75.84654325642516, 74.71006572066823, 67.4906287185375, 64.32103850857108, 63.99993904541229, 61.97782701192735, 63.27551960875475, 57.454083989153574, 55.61027236218601, 50.27440486622436, 47.0881083709365, 47.34784352774207, 45.69093618243141, 44.80080034571347, 2155.118292903284, 618.7081912821612, 1885.5065981752552, 132.6633047698336, 1309.9980572688276, 364.2706840251158, 140.93848739808237, 644.5921855964195, 203.40140475994943, 515.0804814747645, 143.60026339329582, 165.00100304443197, 404.5201726210136, 195.75615688354213, 306.24832967974, 309.74566475068985, 216.71778696766654, 389.3678126955886, 999.1062726404391, 835.8357896279751, 533.518029154252, 210.7720235754546, 259.9493099822832, 360.04444792123337, 392.7290651814952, 352.1312835069792, 283.8411380129686, 329.2806546700969, 362.49188120966613, 245.50463951693644, 494.36185546389936, 299.24303231642716, 241.9896207060762, 202.23413344543485, 193.95847369168897, 186.65736083030023, 2108.3917143082235, 155.84933443925303, 148.09238293809238, 124.21307218782792, 107.71700310561151, 91.15830581058297, 205.68226088762032, 83.94156979336476, 125.0095564042976, 60.35608056331469, 59.83177107632653, 59.610411047098275, 50.17025654692355, 46.35854298417596, 45.134207440573874, 42.789338353887054, 41.89424978067593, 41.256327646246525, 40.474715932975975, 39.93943406155813, 39.692093357200385, 39.478394006135304, 37.35799297369223, 36.357484265580695, 111.10033727872406, 249.29503350498638, 145.15466562345082, 2481.9022113697997, 201.16602896511142, 133.9117472299161, 281.3329023771631, 88.10543315161745, 199.82745087093997, 2847.259664790741, 535.574267169302, 766.2830244191543, 3382.31359425745, 224.19248105487526, 243.21403168717868, 219.49047674394046, 242.93178982327197, 617.8897363795622, 305.9123108496669, 375.3078709455343, 330.43483944688717, 280.33504529718977, 556.3655061229256, 331.6186348777872, 358.411741711324, 552.0728709515311, 399.3121439151716, 279.84551626974996, 252.28030661986497, 224.07838937930663, 229.64311203204122, 213.39657511356847, 213.67290267744568, 400.010147992577, 396.73234199111096, 295.08462290579104, 258.1502746040332, 255.82057379188575, 213.4541398860159, 205.34984220654246, 192.82957730887065, 172.17183756265464, 112.6752571316163, 109.57417485073377, 109.42504961968099, 101.11714856875658, 95.61236810085846, 81.72205815033061, 78.07640950267304, 74.06525904241948, 72.80974280597968, 72.15592525023875, 64.20303834013185, 62.2493577319599, 60.00780374289727, 56.53687589783855, 53.472872175352656, 52.453952161828624, 43.46897267329257, 43.44583466982583, 41.537956986732084, 39.79884050364484, 39.55386397357861, 163.17835488856417, 211.7961661569874, 1461.5175062171336, 531.6718019710294, 493.21007510797773, 825.0299833011022, 166.3271754293874, 274.762451792965, 295.14925694627703, 198.38202230966706, 750.605335646684, 948.9744802996155, 356.9351480580793, 324.8243177769528, 1669.177880204805, 728.5158290253, 304.150100036765, 685.6761903857582, 141.09533624690957, 585.9634129520055, 231.9031280331079, 391.790320037695, 348.5908934313416, 297.94574823940934, 258.20527497764823, 222.84649814721945, 239.35774301513385, 913.2767527995427, 733.6951157904289, 489.6854522277193, 429.30788003590084, 293.69483159287654, 230.0610122355654, 182.737330446197, 160.28106407419344, 135.25801670263337, 135.16773239071145, 128.30863940508397, 127.91766470698656, 121.10629292781609, 101.29454165784773, 98.58350927612604, 94.17230364700725, 77.90944282330454, 77.67617033762367, 75.07541721940187, 69.04609425560633, 64.48256674617157, 60.27667342037205, 58.59529624620447, 55.863549585895676, 54.591147829614066, 54.86421722827776, 50.66656984624103, 48.932930348359875, 43.33376201190912, 43.08680184440072, 360.9385964694203, 156.90250792440648, 1260.3687137169948, 227.94834296166877, 1669.223986447882, 549.5046395184945, 111.58892990417462, 173.86053104824745, 197.12297000727241, 1205.1191594429508, 227.37178189522504, 152.35411552309802, 318.0600397941523, 235.17520503911652, 711.4272780056856, 173.03248624159994, 317.14945367525803, 282.00814205904487, 198.45305828077113, 200.59960025415296, 172.77908429603855, 214.7061292393257, 161.6051638041368, 161.58543202097675], \"Total\": [6744.0, 2118.0, 2240.0, 4931.0, 4343.0, 3153.0, 2673.0, 2767.0, 2237.0, 2006.0, 1715.0, 1598.0, 1351.0, 2011.0, 3276.0, 1592.0, 914.0, 3418.0, 2080.0, 2141.0, 734.0, 1322.0, 880.0, 1499.0, 746.0, 881.0, 715.0, 833.0, 490.0, 684.0, 880.763210782197, 746.3897056672531, 715.0344689894538, 610.5066719668779, 535.1653167685967, 404.1377748836357, 367.63691561388106, 345.8288564188339, 290.6465256684011, 276.7922932349078, 247.88114849961653, 216.7911223449856, 203.15321527032665, 201.15819430529376, 192.84678294456293, 185.72904056856524, 159.2663564849007, 158.32793540110347, 154.84838644900915, 144.25721686520066, 142.60808786860096, 139.77502316292782, 131.9090490519047, 131.230163003609, 129.16320848237064, 125.5815691990953, 122.81155575312776, 97.09506634516188, 85.72370562272778, 83.33902887884028, 1598.2772012686735, 318.9126814497942, 352.7725435497711, 2011.1211590887651, 4343.641725661289, 3276.7657827852145, 216.632491368612, 2080.0432686828017, 1592.1045046739225, 520.8715500336048, 1263.6015856032714, 6744.048516142931, 3418.450421334972, 351.1655386651955, 2673.2875724974933, 4931.3237955841, 1095.5183163649156, 1322.7308472062828, 1499.1955978277917, 643.2720462797183, 853.1732480355897, 620.6135232472094, 317.618935906304, 312.5226749719231, 290.2899492896121, 254.15918557505324, 248.535945109281, 233.06412537350923, 178.3217559375489, 161.64771192603095, 149.29748318181674, 148.64134983061604, 143.09858853994191, 136.3520680302884, 130.14923301303847, 122.12489598667489, 118.2638567887023, 113.43045734183886, 106.51730100508294, 102.15667728619158, 99.56970588246278, 92.49193002139958, 91.19908672293627, 90.52421103626887, 87.516605792727, 87.14065984380152, 85.24337504114966, 84.61470704939732, 84.37936691039272, 76.79522601505373, 74.80682635033298, 74.96867195688236, 2767.3150551158474, 175.5794735245584, 220.7668644021959, 562.4531861284369, 146.0438943927213, 254.92471545781137, 296.30152109186037, 335.0046598766789, 364.37465258275665, 412.1483765659094, 848.1030510535003, 478.93478304983, 333.12914219520616, 413.6227722236509, 378.13005136276206, 708.6781228423503, 601.8489486417948, 1767.4388021100349, 2006.717887008944, 510.66542032129223, 1625.0571466060985, 2141.284133473151, 1715.6075646008817, 542.0614418237469, 903.6898242499694, 1095.5183163649156, 388.01111698154233, 999.2327451630334, 1351.7621101878697, 456.77128262244327, 317.7446855025907, 274.4297506101958, 264.0765617727325, 228.44891683748688, 193.15857951247224, 170.81539245610932, 161.8749763197753, 159.84039710608872, 151.48749320189486, 140.39399797201048, 107.82561157657845, 93.75033760414235, 82.67996349692109, 76.30919613427548, 76.72145676248437, 75.58413328049805, 68.36291506115543, 65.19538884249873, 64.88718971972771, 62.85735684010731, 64.23210195427585, 58.328466965640864, 56.48179826583658, 51.14686775251013, 47.96120986136875, 48.23148605852633, 46.56326546397516, 45.675379288402254, 2240.697088062233, 684.8935526852952, 2237.5429142660196, 141.23235629923312, 1592.6859423543406, 434.94698054017016, 155.79968126039535, 833.1634121932303, 235.88005174089625, 677.8206286988957, 161.38495730677198, 197.56762419409807, 637.1905795656729, 256.4752429613776, 456.17660407396596, 553.0926834560225, 334.61634230516063, 857.9270412402093, 4343.641725661289, 3276.7657827852145, 1592.1045046739225, 326.1008422800293, 562.0034473265513, 1263.6015856032714, 2011.1211590887651, 1499.1955978277917, 999.2327451630334, 1767.4388021100349, 3418.450421334972, 660.0784463151736, 495.23873433369977, 300.1193902084295, 242.86639358530536, 203.1155231788338, 194.83951367646566, 187.5335752323059, 2118.8326924608273, 156.7260898723049, 148.9698182351616, 125.09086772117764, 108.59605102714887, 92.03266606124186, 207.73761136483785, 84.8205287993571, 126.71839621555887, 61.234447585972376, 60.71095018606381, 60.48663174105211, 51.05401795554594, 47.2345556706311, 46.0173012708652, 43.67081466316184, 42.767844368396396, 42.145504623067715, 41.353117027478504, 40.818280556537786, 40.57903264000986, 40.36335015066996, 38.23726063293747, 37.23436072310462, 116.0345304931196, 273.97736112854415, 156.78483749598857, 3153.6082286229102, 226.45111750950898, 148.13880736304313, 341.70654904185227, 97.39503236381276, 243.61639728567812, 4931.3237955841, 758.39363666045, 1197.7967434750028, 6744.048516142931, 296.8202438757087, 337.29547833655727, 302.13551035778164, 394.8185552414428, 1625.0571466060985, 618.7038057317885, 903.6898242499694, 739.7670074366526, 555.1788482380346, 2141.284133473151, 881.808691828958, 1049.4852764854234, 3276.7657827852145, 2080.0432686828017, 857.9270412402093, 653.6584545910716, 549.6388175497254, 999.2327451630334, 1592.1045046739225, 3418.450421334972, 400.89041304566194, 397.61176979576453, 295.96470675050284, 259.03079885630495, 256.7027157815951, 214.33782303832822, 206.23198735065608, 193.70915915823636, 173.05188053186774, 113.55683639831825, 110.45255180710387, 110.30580692432713, 101.99825139708936, 96.49225041220312, 82.60151995539402, 78.95658496421929, 74.94621884015305, 73.68959640320043, 73.0392690412753, 65.0907590869665, 63.133414490534705, 60.89085340946251, 57.41607778743843, 54.36130611059893, 53.33567730464862, 44.355596608893855, 44.363788918470604, 42.42253798735636, 40.68706961921054, 40.44214417737904, 183.8054392706743, 245.17139299450886, 2006.717887008944, 715.7213376241458, 675.9185643627949, 1322.7308472062828, 211.42735493810392, 394.68631475723674, 439.6332653679267, 271.1587674392948, 1499.1955978277917, 2141.284133473151, 620.6135232472094, 549.6388175497254, 6744.048516142931, 2080.0432686828017, 601.8489486417948, 3418.450421334972, 191.7184225749694, 4931.3237955841, 637.1905795656729, 2673.2875724974933, 2237.5429142660196, 1767.4388021100349, 1049.4852764854234, 1095.5183163649156, 3153.6082286229102, 914.1218672370989, 734.5402998075045, 490.53064710545846, 430.15315127780457, 294.53875019065663, 230.9073590519779, 183.5816209450787, 161.12497922090773, 136.10307767774628, 136.0131926020829, 129.15717458494615, 128.7657032370189, 121.95381969478329, 102.13951144591195, 99.43414195606215, 95.01710856121053, 78.75433217854787, 78.52422482940503, 75.92488894449342, 69.88932127192696, 65.32737896831165, 61.11930883329269, 59.44615268870577, 56.71228062665265, 55.43600759344295, 55.71652009224252, 51.518769612297284, 49.78961955573514, 44.18130403857511, 43.93073972555064, 392.31948258202004, 177.44828922857886, 1715.6075646008817, 271.9513511127644, 2673.2875724974933, 881.808691828958, 131.14134092568747, 234.0926013850471, 274.76451962751787, 3418.450421334972, 451.6631370623836, 243.44169698795156, 853.1732480355897, 546.0877894458507, 4931.3237955841, 352.47287021920755, 1767.4388021100349, 1592.6859423543406, 739.7670074366526, 848.1030510535003, 643.2720462797183, 3153.6082286229102, 1197.7967434750028, 4343.641725661289], \"Category\": [\"Default\", \"Default\", \"Default\", \"Default\", \"Default\", \"Default\", \"Default\", \"Default\", \"Default\", \"Default\", \"Default\", \"Default\", \"Default\", \"Default\", \"Default\", \"Default\", \"Default\", \"Default\", \"Default\", \"Default\", \"Default\", \"Default\", \"Default\", \"Default\", \"Default\", \"Default\", \"Default\", \"Default\", \"Default\", \"Default\", \"Topic1\", \"Topic1\", \"Topic1\", \"Topic1\", \"Topic1\", \"Topic1\", \"Topic1\", \"Topic1\", \"Topic1\", \"Topic1\", \"Topic1\", \"Topic1\", \"Topic1\", \"Topic1\", \"Topic1\", \"Topic1\", \"Topic1\", \"Topic1\", \"Topic1\", \"Topic1\", \"Topic1\", \"Topic1\", \"Topic1\", \"Topic1\", \"Topic1\", \"Topic1\", \"Topic1\", \"Topic1\", \"Topic1\", \"Topic1\", \"Topic1\", \"Topic1\", \"Topic1\", \"Topic1\", \"Topic1\", \"Topic1\", \"Topic1\", \"Topic1\", \"Topic1\", \"Topic1\", \"Topic1\", \"Topic1\", \"Topic1\", \"Topic1\", \"Topic1\", \"Topic1\", \"Topic1\", \"Topic1\", \"Topic1\", \"Topic1\", \"Topic1\", \"Topic1\", \"Topic2\", \"Topic2\", \"Topic2\", \"Topic2\", \"Topic2\", \"Topic2\", \"Topic2\", \"Topic2\", \"Topic2\", \"Topic2\", \"Topic2\", \"Topic2\", \"Topic2\", \"Topic2\", \"Topic2\", \"Topic2\", \"Topic2\", \"Topic2\", \"Topic2\", \"Topic2\", \"Topic2\", \"Topic2\", \"Topic2\", \"Topic2\", \"Topic2\", \"Topic2\", \"Topic2\", \"Topic2\", \"Topic2\", \"Topic2\", \"Topic2\", \"Topic2\", \"Topic2\", \"Topic2\", \"Topic2\", \"Topic2\", \"Topic2\", \"Topic2\", \"Topic2\", \"Topic2\", \"Topic2\", \"Topic2\", \"Topic2\", \"Topic2\", \"Topic2\", \"Topic2\", \"Topic2\", \"Topic2\", \"Topic2\", \"Topic2\", \"Topic2\", \"Topic2\", \"Topic2\", \"Topic2\", \"Topic2\", \"Topic2\", \"Topic2\", \"Topic2\", \"Topic3\", \"Topic3\", \"Topic3\", \"Topic3\", \"Topic3\", \"Topic3\", \"Topic3\", \"Topic3\", \"Topic3\", \"Topic3\", \"Topic3\", \"Topic3\", \"Topic3\", \"Topic3\", \"Topic3\", \"Topic3\", \"Topic3\", \"Topic3\", \"Topic3\", \"Topic3\", \"Topic3\", \"Topic3\", \"Topic3\", \"Topic3\", \"Topic3\", \"Topic3\", \"Topic3\", \"Topic3\", \"Topic3\", \"Topic3\", \"Topic3\", \"Topic3\", \"Topic3\", \"Topic3\", \"Topic3\", \"Topic3\", \"Topic3\", \"Topic3\", \"Topic3\", \"Topic3\", \"Topic3\", \"Topic3\", \"Topic3\", \"Topic3\", \"Topic3\", \"Topic3\", \"Topic3\", \"Topic3\", \"Topic3\", \"Topic3\", \"Topic3\", \"Topic3\", \"Topic3\", \"Topic3\", \"Topic3\", \"Topic3\", \"Topic3\", \"Topic3\", \"Topic3\", \"Topic3\", \"Topic4\", \"Topic4\", \"Topic4\", \"Topic4\", \"Topic4\", \"Topic4\", \"Topic4\", \"Topic4\", \"Topic4\", \"Topic4\", \"Topic4\", \"Topic4\", \"Topic4\", \"Topic4\", \"Topic4\", \"Topic4\", \"Topic4\", \"Topic4\", \"Topic4\", \"Topic4\", \"Topic4\", \"Topic4\", \"Topic4\", \"Topic4\", \"Topic4\", \"Topic4\", \"Topic4\", \"Topic4\", \"Topic4\", \"Topic4\", \"Topic4\", \"Topic4\", \"Topic4\", \"Topic4\", \"Topic4\", \"Topic4\", \"Topic4\", \"Topic4\", \"Topic4\", \"Topic4\", \"Topic4\", \"Topic4\", \"Topic4\", \"Topic4\", \"Topic4\", \"Topic4\", \"Topic4\", \"Topic4\", \"Topic4\", \"Topic4\", \"Topic4\", \"Topic4\", \"Topic4\", \"Topic4\", \"Topic4\", \"Topic4\", \"Topic4\", \"Topic4\", \"Topic4\", \"Topic4\", \"Topic4\", \"Topic4\", \"Topic4\", \"Topic5\", \"Topic5\", \"Topic5\", \"Topic5\", \"Topic5\", \"Topic5\", \"Topic5\", \"Topic5\", \"Topic5\", \"Topic5\", \"Topic5\", \"Topic5\", \"Topic5\", \"Topic5\", \"Topic5\", \"Topic5\", \"Topic5\", \"Topic5\", \"Topic5\", \"Topic5\", \"Topic5\", \"Topic5\", \"Topic5\", \"Topic5\", \"Topic5\", \"Topic5\", \"Topic5\", \"Topic5\", \"Topic5\", \"Topic5\", \"Topic5\", \"Topic5\", \"Topic5\", \"Topic5\", \"Topic5\", \"Topic5\", \"Topic5\", \"Topic5\", \"Topic5\", \"Topic5\", \"Topic5\", \"Topic5\", \"Topic5\", \"Topic5\", \"Topic5\", \"Topic5\", \"Topic5\", \"Topic5\", \"Topic5\", \"Topic5\", \"Topic5\", \"Topic5\", \"Topic5\", \"Topic5\", \"Topic5\", \"Topic5\", \"Topic5\", \"Topic6\", \"Topic6\", \"Topic6\", \"Topic6\", \"Topic6\", \"Topic6\", \"Topic6\", \"Topic6\", \"Topic6\", \"Topic6\", \"Topic6\", \"Topic6\", \"Topic6\", \"Topic6\", \"Topic6\", \"Topic6\", \"Topic6\", \"Topic6\", \"Topic6\", \"Topic6\", \"Topic6\", \"Topic6\", \"Topic6\", \"Topic6\", \"Topic6\", \"Topic6\", \"Topic6\", \"Topic6\", \"Topic6\", \"Topic6\", \"Topic6\", \"Topic6\", \"Topic6\", \"Topic6\", \"Topic6\", \"Topic6\", \"Topic6\", \"Topic6\", \"Topic6\", \"Topic6\", \"Topic6\", \"Topic6\", \"Topic6\", \"Topic6\", \"Topic6\", \"Topic6\", \"Topic6\", \"Topic6\", \"Topic6\", \"Topic6\", \"Topic6\", \"Topic6\", \"Topic6\", \"Topic6\"], \"logprob\": [30.0, 29.0, 28.0, 27.0, 26.0, 25.0, 24.0, 23.0, 22.0, 21.0, 20.0, 19.0, 18.0, 17.0, 16.0, 15.0, 14.0, 13.0, 12.0, 11.0, 10.0, 9.0, 8.0, 7.0, 6.0, 5.0, 4.0, 3.0, 2.0, 1.0, -3.8009, -3.9666, -4.0096, -4.1678, -4.2997, -4.5811, -4.676, -4.7373, -4.9116, -4.9607, -5.0713, -5.2058, -5.271, -5.281, -5.3233, -5.3611, -5.5156, -5.5216, -5.5439, -5.6152, -5.6268, -5.6469, -5.7052, -5.7104, -5.7266, -5.7548, -5.7772, -6.0142, -6.1399, -6.1684, -3.2283, -4.8564, -4.7884, -3.1919, -2.5698, -3.0414, -5.3233, -3.7225, -3.9364, -4.7256, -4.2174, -3.281, -3.7229, -5.0586, -4.1644, -3.9142, -4.6414, -4.6024, -4.5995, -4.9108, -4.8703, -5.0087, -4.8149, -4.8311, -4.9051, -5.0384, -5.0609, -5.1254, -5.3942, -5.4929, -5.5728, -5.5772, -5.6154, -5.664, -5.7109, -5.7749, -5.8073, -5.8493, -5.9127, -5.9549, -5.9807, -6.0551, -6.0693, -6.0768, -6.1108, -6.1152, -6.1375, -6.145, -6.1479, -6.243, -6.2695, -6.2673, -2.807, -5.4573, -5.2764, -4.4676, -5.6672, -5.183, -5.0614, -4.9938, -4.946, -4.8646, -4.3004, -4.8014, -5.1112, -4.959, -5.0478, -4.7186, -4.8793, -4.3281, -4.2732, -4.9968, -4.4244, -4.3371, -4.4537, -4.9921, -4.7985, -4.7248, -5.1607, -5.0425, -3.2238, -4.3094, -4.6732, -4.8202, -4.8588, -5.0042, -5.1727, -5.2962, -5.3503, -5.363, -5.417, -5.4935, -5.7593, -5.9004, -6.0273, -6.1084, -6.103, -6.1181, -6.2197, -6.2678, -6.2728, -6.3049, -6.2842, -6.3807, -6.4133, -6.5142, -6.5797, -6.5742, -6.6098, -6.6295, -2.7561, -4.0041, -2.8897, -5.5439, -3.2539, -4.5338, -5.4834, -3.9631, -5.1165, -4.1874, -5.4647, -5.3257, -4.429, -5.1548, -4.7073, -4.6959, -5.0531, -4.4672, -3.5248, -3.7033, -4.1522, -5.0809, -4.8712, -4.5455, -4.4586, -4.5677, -4.7833, -4.6348, -4.5387, -4.9284, -4.1827, -4.6847, -4.897, -5.0765, -5.1183, -5.1566, -2.7322, -5.337, -5.3881, -5.5639, -5.7064, -5.8733, -5.0596, -5.9558, -5.5575, -6.2857, -6.2944, -6.2981, -6.4705, -6.5495, -6.5763, -6.6296, -6.6508, -6.6661, -6.6852, -6.6986, -6.7048, -6.7102, -6.7654, -6.7925, -5.6755, -4.8673, -5.4081, -2.5691, -5.0818, -5.4887, -4.7464, -5.9074, -5.0885, -2.4318, -4.1026, -3.7444, -2.2596, -4.9734, -4.892, -4.9946, -4.8931, -3.9596, -4.6626, -4.4582, -4.5855, -4.7499, -4.0645, -4.5819, -4.5042, -4.0722, -4.3962, -4.7517, -4.8554, -4.9739, -4.9494, -5.0228, -5.0215, -4.1892, -4.1974, -4.4934, -4.6271, -4.6362, -4.8172, -4.8559, -4.9189, -5.0322, -5.4562, -5.4841, -5.4854, -5.5644, -5.6204, -5.7773, -5.823, -5.8757, -5.8928, -5.9018, -6.0186, -6.0495, -6.0862, -6.1458, -6.2015, -6.2207, -6.4086, -6.4091, -6.4541, -6.4968, -6.503, -5.0858, -4.825, -2.8934, -3.9046, -3.9797, -3.4652, -5.0667, -4.5648, -4.4932, -4.8905, -3.5598, -3.3253, -4.3031, -4.3974, -2.7606, -3.5897, -4.4631, -3.6503, -5.2312, -3.8074, -4.7343, -4.2099, -4.3268, -4.4838, -4.6269, -4.7742, -4.7027, -3.3143, -3.5332, -3.9376, -4.0692, -4.4488, -4.693, -4.9233, -5.0544, -5.2241, -5.2248, -5.2769, -5.2799, -5.3347, -5.5133, -5.5404, -5.5862, -5.7758, -5.7788, -5.8128, -5.8966, -5.9649, -6.0324, -6.0607, -6.1084, -6.1315, -6.1265, -6.2061, -6.2409, -6.3624, -6.3681, -4.2426, -5.0757, -2.9922, -4.7022, -2.7112, -3.8223, -5.4165, -4.9731, -4.8475, -3.037, -4.7047, -5.1051, -4.3691, -4.671, -3.5641, -4.9779, -4.372, -4.4894, -4.8408, -4.83, -4.9793, -4.7621, -5.0462, -5.0463], \"loglift\": [30.0, 29.0, 28.0, 27.0, 26.0, 25.0, 24.0, 23.0, 22.0, 21.0, 20.0, 19.0, 18.0, 17.0, 16.0, 15.0, 14.0, 13.0, 12.0, 11.0, 10.0, 9.0, 8.0, 7.0, 6.0, 5.0, 4.0, 3.0, 2.0, 1.0, 1.6055, 1.6053, 1.6053, 1.6051, 1.6049, 1.6043, 1.6041, 1.604, 1.6035, 1.6032, 1.603, 1.6025, 1.6022, 1.6021, 1.602, 1.6018, 1.601, 1.6009, 1.6008, 1.6004, 1.6003, 1.6002, 1.5998, 1.5998, 1.5995, 1.5994, 1.5994, 1.5973, 1.5961, 1.5959, 1.5823, 1.5658, 1.533, 1.3888, 1.241, 1.0512, 1.4857, 0.8246, 0.878, 1.2061, 0.828, 0.0898, 0.3274, 1.2674, 0.1318, -0.2304, 0.5468, 0.3974, 0.275, 0.8098, 0.568, 0.7478, 1.6114, 1.6114, 1.6112, 1.6108, 1.6107, 1.6105, 1.6094, 1.6089, 1.6084, 1.6084, 1.6082, 1.6079, 1.6076, 1.6072, 1.607, 1.6067, 1.6062, 1.6058, 1.6056, 1.6049, 1.6049, 1.6048, 1.6045, 1.6044, 1.6042, 1.604, 1.604, 1.6031, 1.6028, 1.6028, 1.4546, 1.5618, 1.5137, 1.3873, 1.5361, 1.4632, 1.4345, 1.3793, 1.343, 1.3012, 1.1438, 1.2142, 1.2674, 1.2032, 1.2042, 0.9052, 0.9079, 0.3818, 0.3097, 0.9547, 0.3695, 0.181, 0.286, 0.8997, 0.5822, 0.4635, 1.0655, 0.2377, 1.7543, 1.7536, 1.7528, 1.7523, 1.7522, 1.7517, 1.751, 1.7504, 1.7501, 1.75, 1.7497, 1.7493, 1.7474, 1.7461, 1.7449, 1.744, 1.744, 1.7439, 1.7427, 1.742, 1.7417, 1.7414, 1.7405, 1.7404, 1.74, 1.7383, 1.7371, 1.737, 1.7366, 1.7362, 1.7166, 1.6539, 1.5843, 1.6929, 1.5601, 1.5782, 1.6553, 1.4989, 1.6074, 1.4809, 1.6387, 1.5754, 1.3011, 1.4853, 1.357, 1.1757, 1.3211, 0.9655, 0.2859, 0.3893, 0.6622, 1.3191, 0.9845, 0.5, 0.1222, 0.3068, 0.4969, 0.0751, -0.4884, 0.7665, 1.7995, 1.7984, 1.7977, 1.7969, 1.7967, 1.7966, 1.7963, 1.7957, 1.7954, 1.7942, 1.7931, 1.7917, 1.7913, 1.7909, 1.7877, 1.7868, 1.7867, 1.7867, 1.7838, 1.7826, 1.7819, 1.7809, 1.7806, 1.78, 1.7798, 1.7795, 1.7792, 1.7791, 1.778, 1.7774, 1.7578, 1.7069, 1.7242, 1.5618, 1.6829, 1.7003, 1.6069, 1.701, 1.6031, 1.252, 1.4534, 1.3546, 1.1112, 1.5207, 1.4743, 1.4817, 1.3156, 0.8343, 1.0969, 0.9225, 0.9954, 1.118, 0.4535, 0.8233, 0.7269, 0.0203, 0.1509, 0.681, 0.8492, 0.904, 0.3308, -0.2084, -0.9712, 2.0043, 2.0043, 2.0036, 2.0031, 2.0031, 2.0024, 2.0022, 2.002, 2.0014, 1.9987, 1.9985, 1.9985, 1.9979, 1.9974, 1.9958, 1.9953, 1.9947, 1.9945, 1.9944, 1.9928, 1.9924, 1.9919, 1.9911, 1.9901, 1.9899, 1.9863, 1.9856, 1.9855, 1.9845, 1.9843, 1.8875, 1.8602, 1.6895, 1.7093, 1.6914, 1.5345, 1.7666, 1.6443, 1.6081, 1.694, 1.3147, 1.1928, 1.4534, 1.4806, 0.6102, 0.9574, 1.324, 0.4, 1.6999, -0.1236, 0.9958, 0.0862, 0.1473, 0.2262, 0.6042, 0.414, -0.5718, 2.0549, 2.0547, 2.0541, 2.0539, 2.053, 2.0522, 2.0513, 2.0506, 2.0496, 2.0496, 2.0493, 2.0493, 2.0489, 2.0476, 2.0473, 2.0469, 2.0451, 2.045, 2.0446, 2.0437, 2.0428, 2.042, 2.0414, 2.0408, 2.0405, 2.0404, 2.0392, 2.0385, 2.0365, 2.0365, 1.9725, 1.9328, 1.7475, 1.8794, 1.5849, 1.5829, 1.8944, 1.7584, 1.7238, 1.0133, 1.3695, 1.5872, 1.0691, 1.2134, 0.1198, 1.3444, 0.338, 0.3246, 0.7401, 0.6142, 0.7413, -0.6312, 0.0528, -1.2356]}, \"token.table\": {\"Topic\": [5, 1, 3, 1, 2, 1, 3, 3, 3, 3, 5, 1, 1, 2, 4, 5, 6, 2, 6, 4, 4, 4, 1, 3, 2, 5, 6, 4, 2, 3, 4, 5, 1, 5, 2, 5, 2, 5, 5, 6, 2, 4, 6, 2, 4, 2, 4, 1, 3, 4, 6, 1, 3, 4, 6, 3, 6, 3, 6, 1, 3, 4, 6, 4, 4, 2, 1, 2, 3, 4, 1, 2, 4, 5, 6, 1, 2, 6, 2, 6, 2, 3, 4, 3, 1, 5, 3, 1, 6, 4, 6, 2, 4, 6, 1, 2, 3, 4, 2, 5, 1, 2, 6, 1, 4, 3, 3, 4, 6, 2, 5, 6, 3, 4, 2, 3, 5, 4, 1, 2, 1, 1, 5, 6, 5, 1, 3, 1, 3, 5, 6, 4, 3, 4, 5, 6, 3, 4, 5, 3, 5, 1, 2, 3, 3, 4, 6, 2, 3, 4, 5, 6, 3, 1, 2, 3, 5, 6, 2, 4, 3, 4, 5, 6, 6, 1, 2, 5, 5, 2, 3, 2, 6, 6, 6, 1, 3, 5, 5, 1, 2, 3, 4, 5, 1, 2, 3, 4, 5, 6, 5, 5, 1, 1, 1, 1, 3, 4, 5, 6, 2, 6, 1, 3, 6, 4, 5, 3, 4, 2, 4, 4, 2, 3, 5, 6, 5, 1, 5, 6, 3, 2, 5, 3, 4, 5, 2, 3, 4, 1, 2, 2, 1, 4, 5, 3, 6, 1, 2, 3, 2, 3, 6, 3, 6, 5, 5, 2, 2, 3, 6, 6, 6, 6, 1, 2, 3, 4, 5, 6, 1, 5, 2, 3, 2, 3, 6, 5, 2, 3, 6, 2, 3, 4, 6, 1, 2, 3, 4, 5, 1, 3, 5, 6, 2, 1, 2, 3, 5, 3, 3, 4, 5, 5, 5, 3, 6, 5, 2, 4, 1, 3, 5, 5, 2, 3, 4, 5, 6, 2, 3, 6, 4, 6, 1, 3, 1, 2, 5, 1, 2, 1, 3, 6, 1, 6, 2, 4, 6, 3, 1, 1, 3, 1, 3, 4, 6, 2, 3, 4, 1, 2, 1, 3, 5, 4, 2, 2, 1, 2, 4, 3, 2, 4, 5, 2, 1, 2, 4, 1, 2, 4, 6, 5, 1, 2, 3, 4, 5, 6, 4, 6, 5, 4, 3, 6, 6, 3, 6, 2, 4, 1, 4, 6, 1, 6, 2, 1, 2, 3, 6, 3, 4, 1, 3, 2, 2, 6, 5, 3, 1, 5, 6, 6, 5, 2, 6, 2, 2, 6, 4, 1, 2, 4, 2, 4, 1, 5, 6, 2, 5, 4, 6, 5, 5, 3, 1, 2, 3, 4, 5, 1, 2, 3, 6, 4, 1, 1, 1, 2, 3, 5, 1, 2, 3, 4, 1, 2, 3, 5, 5, 6, 3, 3, 6, 3, 4, 2, 3, 2, 6, 3, 5, 3, 1, 3, 4, 5, 6, 2, 6, 4, 3, 1, 2, 4, 1, 2, 3, 4, 5, 6, 1, 1, 3, 3, 4, 6, 1, 2, 3, 4, 6, 1, 3, 2, 2, 4, 1, 2, 3, 4, 5, 6, 3, 4, 2, 1, 3, 5, 1], \"Freq\": [0.9853696678633828, 0.9978225106671094, 0.9816645185538108, 0.9297775748064246, 0.06803250547364083, 0.9595102916851959, 0.03762785457589003, 0.9952264696735756, 0.9983114467748166, 0.7597880297455146, 0.23900128314324928, 0.9931085163721634, 0.9942423707406322, 0.2178945577398517, 0.025336576481378104, 0.6967558532378978, 0.05827412590716964, 0.9954341948946288, 0.9788134747703939, 0.9934898340707468, 0.9778930697200777, 0.9912793976007174, 0.9964452782918347, 0.9905964147068028, 0.23993521009704846, 0.7354535787757355, 0.020863931312786823, 0.9798406348936319, 0.2386418467366873, 0.058376185600950904, 0.25965727355302964, 0.4431920010824193, 0.9971375892527636, 0.9832424893753481, 0.27158775208424246, 0.7285528321966285, 0.9925878032627057, 0.974957151157576, 0.8647012092668911, 0.1345997165368274, 0.9911698825537962, 0.9945079373482861, 0.9992644381694972, 0.9983275614418377, 0.9887793529684918, 0.9854138220061155, 0.9662230675704373, 0.011070197210513997, 0.3121795613364947, 0.17269507648401836, 0.5025869533573355, 0.9944552099124003, 0.6470391138052016, 0.35265164970425683, 0.9872752910495901, 0.9986964346946928, 0.0007397751368108836, 0.9800635321074853, 0.9888435784567524, 0.9839327515948502, 0.0945059586289922, 0.9045570325917826, 0.9874404517190603, 0.9857307431365687, 0.9793548481049288, 0.9942091620543498, 0.5737364598582999, 0.002441431744077872, 0.25512961725613764, 0.16845879034137318, 0.17519020711328107, 0.06738084888972348, 0.754665507564903, 0.9967404669256187, 0.9968318127812331, 0.6700308357741631, 0.2476618275497623, 0.0806340833882947, 0.796510733779893, 0.20090560919001765, 0.9907889707697468, 0.08759847857918351, 0.908834215259029, 0.9940019256954753, 0.4237742010904249, 0.5752372235333905, 0.9919964277108994, 0.99917007955827, 0.979681123148144, 0.1581165154137075, 0.8383852445191933, 0.9868519876018155, 0.984639291290169, 0.9981708682123901, 0.36227242464078474, 0.5169725411090117, 0.013707605256678341, 0.10574438340866149, 0.10881070810177569, 0.8868072710294719, 0.9971846856335979, 0.9893132456270187, 0.9871398987040779, 0.9985532599695288, 0.9964326328870979, 0.9947422734095753, 0.0048137647941072954, 0.9916355475861028, 0.9904217056042367, 0.6249240576857286, 0.13795493348911367, 0.23699950112232346, 0.9772243805683524, 0.9956912555332094, 0.9946813735935042, 0.26926320653964564, 0.7293778067255237, 0.9799530860834674, 0.886293643151163, 0.11078670539389537, 0.996350762261719, 0.2289315995391565, 0.14663592650220483, 0.6243249013576017, 0.9927178100872859, 0.9960747087998008, 0.9976563400221382, 0.3363236615879436, 0.3726829763542077, 0.26360503205541524, 0.027269486074698125, 0.994511301087736, 0.9922717473212229, 0.720436577443626, 0.1334141810080789, 0.1423084597419508, 0.9744671757152167, 0.995367141023575, 0.9900397758502264, 0.8922764698959803, 0.1053381943627199, 0.17437615457020006, 0.36298709726857975, 0.4626306141658369, 0.2838731626159776, 0.4460863983965362, 0.2676518390379217, 0.0015298509381716778, 0.2264179388494083, 0.3855224364192628, 0.22794778978757999, 0.1575746466316828, 0.9914698490375793, 0.0020879669537302256, 0.6702373921474024, 0.11066224854770196, 0.0981344468253206, 0.11901411636262285, 0.9059330554047162, 0.09059330554047162, 0.842888861695269, 0.001340756407786748, 0.15597466210585836, 0.99301797135151, 0.9732623546479366, 0.15694899689233996, 0.17059673575254344, 0.6710138272933376, 0.9873746954176412, 0.9951435025089655, 0.9984340232455109, 0.7629509847336615, 0.23602080822696003, 0.992178845261506, 0.9921349387812963, 0.26414165074508666, 0.23479257844007706, 0.5009353022968689, 0.9972625307860281, 0.45900543858774534, 0.15273801663350836, 0.2848999273992902, 0.09654941984087057, 0.007122498184982255, 0.9991334665516749, 0.0022196796470995697, 0.06659038941298709, 0.7870349834430188, 0.07578620509382816, 0.06817587487520106, 0.9984613891181371, 0.9881619385167733, 0.997775560306753, 0.9933918616358942, 0.9982675417325337, 0.15938924973935945, 0.0002027853050119077, 0.5773297633689012, 0.11883218873697791, 0.14418035186346637, 0.11270889162665935, 0.884764799269276, 0.4122274743815676, 0.5604847239398506, 0.02712022857773471, 0.4075403571359566, 0.5912973931660085, 0.8606068995736293, 0.1356621713613603, 0.034472496962765616, 0.9566117907167458, 0.9971547749161986, 0.10680175303447213, 0.07393967517771148, 0.18895694767637378, 0.6243794792784525, 0.9694379804910112, 0.9916127536322676, 0.9831133176795279, 0.9878183694786886, 0.9967819574303395, 0.9869101307489967, 0.9878846714982318, 0.6707928404640062, 0.13591227486525617, 0.192907744970041, 0.35631694787229523, 0.227954320688487, 0.4149653896028283, 0.20596728423240476, 0.7910337727766269, 0.9974179487309999, 0.45768278685993824, 0.19182293272806236, 0.3504734785933771, 0.961754273471947, 0.03793462331559883, 0.2581581408137687, 0.708433967814528, 0.033020227313389015, 0.9870789767032356, 0.2563088266993498, 0.7432955974281144, 0.9923430846854775, 0.9841408799106964, 0.9977789116010601, 0.9959027491923028, 0.9913094102180099, 0.012836996737222496, 0.905008269974186, 0.08344047879194623, 0.9989182182426527, 0.9973192076487664, 0.9940535156662836, 0.13975024182173781, 0.29138208315058695, 0.1861450589447439, 0.03394742716317518, 0.16860555491043672, 0.17935557351210887, 0.20810930550061107, 0.7851396525704872, 0.05664424363953942, 0.9417105505073428, 0.8590771577667733, 0.13729543617277198, 0.9924948433409629, 0.9948985497788653, 0.3277861242450457, 0.24171937653824602, 0.4303337385339986, 0.17294220434516785, 0.2860819641971468, 0.49458237878150807, 0.046872186224391287, 0.004191575467008672, 0.0698595911168112, 0.1816349369037091, 0.0027943836446724475, 0.743306049482871, 0.6938877997680943, 0.22999134438232458, 0.03890744464525811, 0.0372958936836202, 0.995556341882422, 0.10330932193145843, 0.48887446985422295, 0.3431345335580584, 0.0627235168869569, 0.9852134935949236, 0.0924071770558183, 0.9035368423235568, 0.9857710919767283, 0.9960205548496309, 0.9906418756939959, 0.8351570793699358, 0.16196985781719966, 0.9937583436307973, 0.1755892597558942, 0.8223430331901045, 0.9945211799201503, 0.6356026171574279, 0.36409828933462535, 0.9940262062811753, 0.180088281593558, 0.1181531582941862, 0.34111960217192466, 0.24583479709596806, 0.11434176609114793, 0.09636533990023796, 0.9037900817916257, 0.9899304735691231, 0.3764988971830152, 0.623718052562224, 0.9912848944924852, 0.9828435339304088, 0.09503796812502438, 0.8524508243609602, 0.05239735885219975, 0.06847256464627932, 0.9243796227247708, 0.8045263671399651, 0.19541338831026348, 0.9892955218632515, 0.14488184935341278, 0.854040375135907, 0.10922251396706792, 0.7248403199632689, 0.16217888437534328, 0.9917759579447999, 0.9906259127059442, 0.9976032757144185, 0.9775769699513251, 0.35397265525536287, 0.08439083171651035, 0.18870727647719676, 0.3727261734145874, 0.9955040322737241, 0.007891514017419493, 0.9864392521774366, 0.9915576955350854, 0.9886774186776733, 0.29862462256344346, 0.07711319367461072, 0.6237096547211161, 0.9903262946957326, 0.9940970540613684, 0.9927352221518836, 0.9920488136173269, 0.0047195798118377765, 0.9948874243354032, 0.9808179723722427, 0.015196854150714444, 0.615472593103935, 0.3697901176673848, 0.9942783211277605, 0.2591700914720024, 0.6637927853007408, 0.07669319033355172, 0.1694778359565948, 0.05593603452754607, 0.6395074992253774, 0.13524832229048453, 0.9902130538179221, 0.48238039509679886, 0.03266117258467909, 0.33540511846574295, 0.13378518770262782, 0.015702486819557254, 0.9816864939303275, 0.9974987127463558, 0.9910405706174296, 0.9749581787488819, 0.9676425399608335, 0.8225099281428525, 0.1770593891116675, 0.9960704628223925, 0.7642063137825567, 0.23394070830078267, 0.9896448509065154, 0.9820462223491488, 0.18723785793521447, 0.7067569848822179, 0.10680469361093219, 0.711914958826163, 0.28476598353046517, 0.9954391356250591, 0.144691987125938, 0.22980492072943096, 0.13334359597880563, 0.490817917113476, 0.17650700231633346, 0.8209628014713184, 0.9909942738645316, 0.986327197655503, 0.9956852529168574, 0.2652121670411561, 0.73443369334474, 0.9963390520029202, 0.9799585985393797, 0.45082014938652776, 0.27981940306749997, 0.26893753739265275, 0.9933240368746853, 0.9692589620562639, 0.9892145357623584, 0.9987727377745709, 0.99805132554664, 0.07901723308762522, 0.9201684240204098, 0.988289588881661, 0.9994778790968122, 0.0701598456565128, 0.9248343291085779, 0.9923228555141529, 0.9738632945075271, 0.9887217096976993, 0.7301995132586923, 0.26552709573043354, 0.49347930352000474, 0.5051101288554931, 0.9919547224395728, 0.9956338743662716, 0.9820473120346653, 0.9927532878686209, 0.9980349355834056, 0.21945275103780607, 0.00044483665750906634, 0.031138566025634647, 0.5014791918985542, 0.24747746046087726, 0.03626492786980625, 0.6624393490884608, 0.16923633005909583, 0.13055374033130251, 0.966848881003114, 0.9953689924182004, 0.9957359510411411, 0.15239640750703018, 0.4924661687032734, 0.11570838347755995, 0.2398832340388438, 0.09278084679649144, 0.5773030467337246, 0.12370779572865527, 0.2036024138034118, 0.34686777420654513, 0.31674504644650303, 0.13327025008988314, 0.20355661486331464, 0.9950964079664472, 0.9925507770040581, 0.9879032224573908, 0.28023996731595613, 0.7169775787174463, 0.9971936266670813, 0.9728202418428099, 0.8369852408658889, 0.16199714339339785, 0.951136238466062, 0.045563412621128715, 0.9945947400909771, 0.9890672419484041, 0.9959232967685372, 0.2781962242496458, 0.10589593394150555, 0.06260146371127676, 0.2006757201211956, 0.3524988961312547, 0.7303195089787405, 0.26689417271648325, 0.9962701836504063, 0.986360278522557, 0.36204549333590724, 0.13329038063113002, 0.504341980766438, 0.14110826599962417, 0.2521934966801794, 0.28421806768718627, 0.23017660411286214, 0.037028410226851736, 0.05504223141829312, 0.9956090377467881, 0.22564601043282292, 0.7741578549423979, 0.6485038910684827, 0.3496541716820851, 0.9918952774869789, 0.03380240813726764, 0.14103763395204774, 0.4534185091516245, 0.326368078566722, 0.045458410943222, 0.1609391561083272, 0.8368836117633015, 0.9978435911592373, 0.9959930646817485, 0.9672789592479962, 0.1347644914871932, 0.28798987221920735, 0.029537422791713574, 0.38029431844331224, 0.10645779464513434, 0.06030557153308188, 0.110399101911918, 0.8876087793718207, 0.9962050991248178, 0.9760509620995094, 0.023775600358834203, 0.9939215885511626, 0.9943234210258887], \"Term\": [\"128\", \"2\", \"2nd\", \"3\", \"3\", \"4\", \"4\", \"6\", \"7\", \"8\", \"8\", \"9\", \"absolutely\", \"access\", \"access\", \"access\", \"access\", \"ad\", \"adjust\", \"adult\", \"advertise\", \"affordable\", \"age\", \"ago\", \"allow\", \"allow\", \"allow\", \"alternative\", \"amazon\", \"amazon\", \"amazon\", \"amazon\", \"android\", \"annoying\", \"app\", \"app\", \"apple\", \"application\", \"available\", \"available\", \"bad\", \"basic\", \"battery\", \"beat\", \"beginner\", \"believe\", \"benefit\", \"big\", \"big\", \"big\", \"big\", \"birthday\", \"black\", \"black\", \"blue\", \"book\", \"book\", \"boy\", \"bright\", \"bring\", \"browse\", \"browse\", \"browsing\", \"bulky\", \"bumper\", \"button\", \"buy\", \"buy\", \"buy\", \"buy\", \"camera\", \"camera\", \"camera\", \"card\", \"carry\", \"case\", \"case\", \"case\", \"charge\", \"charge\", \"charger\", \"cheap\", \"cheap\", \"check\", \"child\", \"child\", \"christma\", \"christmas\", \"clarity\", \"clear\", \"clear\", \"close\", \"college\", \"color\", \"come\", \"come\", \"come\", \"come\", \"content\", \"content\", \"control\", \"couple\", \"crisp\", \"daughter\", \"deal\", \"decide\", \"definitely\", \"definitely\", \"design\", \"device\", \"device\", \"device\", \"die\", \"display\", \"dollar\", \"download\", \"download\", \"downside\", \"drop\", \"drop\", \"durable\", \"easy\", \"easy\", \"easy\", \"edition\", \"educational\", \"email\", \"enjoy\", \"enjoy\", \"enjoy\", \"enjoy\", \"entertain\", \"everyday\", \"excellent\", \"excellent\", \"excellent\", \"exchange\", \"expensive\", \"explore\", \"facebook\", \"facebook\", \"far\", \"far\", \"far\", \"fast\", \"fast\", \"fast\", \"feature\", \"feature\", \"feature\", \"feature\", \"feature\", \"finally\", \"find\", \"find\", \"find\", \"find\", \"find\", \"fine\", \"fine\", \"fire\", \"fire\", \"fire\", \"fit\", \"forward\", \"free\", \"free\", \"free\", \"freetime\", \"freeze\", \"friday\", \"friendly\", \"friendly\", \"function\", \"functional\", \"game\", \"game\", \"game\", \"gb\", \"get\", \"get\", \"get\", \"get\", \"get\", \"gift\", \"good\", \"good\", \"good\", \"good\", \"good\", \"google\", \"grand\", \"granddaughter\", \"grandkid\", \"grandson\", \"great\", \"great\", \"great\", \"great\", \"great\", \"hand\", \"hand\", \"happy\", \"happy\", \"happy\", \"hd\", \"hd\", \"hd8\", \"hd8\", \"high\", \"high\", \"highly\", \"hold\", \"hold\", \"hold\", \"hold\", \"hulu\", \"husband\", \"idea\", \"improvement\", \"inch\", \"instal\", \"install\", \"internet\", \"internet\", \"internet\", \"ipad\", \"ipad\", \"ipad\", \"issue\", \"issue\", \"keyboard\", \"kid\", \"kid\", \"kid\", \"kindle\", \"kindle\", \"know\", \"know\", \"know\", \"lag\", \"large\", \"large\", \"last\", \"late\", \"learn\", \"learning\", \"let\", \"library\", \"library\", \"library\", \"life\", \"light\", \"lightweight\", \"like\", \"like\", \"like\", \"like\", \"like\", \"like\", \"limit\", \"limit\", \"listen\", \"listen\", \"load\", \"load\", \"loading\", \"lock\", \"long\", \"long\", \"long\", \"look\", \"look\", \"look\", \"look\", \"lot\", \"lot\", \"lot\", \"lot\", \"lot\", \"love\", \"love\", \"love\", \"love\", \"low\", \"m\", \"m\", \"m\", \"m\", \"magazine\", \"medium\", \"medium\", \"meet\", \"memory\", \"micro\", \"model\", \"model\", \"mom\", \"money\", \"money\", \"mother\", \"movie\", \"movie\", \"navigate\", \"need\", \"need\", \"need\", \"need\", \"need\", \"new\", \"new\", \"nexus\", \"nice\", \"nice\", \"niece\", \"nook\", \"not\", \"not\", \"not\", \"ok\", \"ok\", \"old\", \"old\", \"operate\", \"original\", \"original\", \"overall\", \"overall\", \"overall\", \"own\", \"parent\", \"parental\", \"past\", \"perfect\", \"perfect\", \"perfect\", \"perfect\", \"perform\", \"performance\", \"performance\", \"person\", \"photo\", \"play\", \"play\", \"play\", \"playing\", \"port\", \"powerful\", \"present\", \"price\", \"price\", \"primarily\", \"prime\", \"prime\", \"prime\", \"probably\", \"problem\", \"problem\", \"problem\", \"product\", \"product\", \"product\", \"product\", \"profile\", \"purchase\", \"purchase\", \"purchase\", \"purchase\", \"purchase\", \"purse\", \"quality\", \"quick\", \"ram\", \"range\", \"read\", \"read\", \"reader\", \"reading\", \"reading\", \"real\", \"reasonable\", \"recommend\", \"recommend\", \"recommend\", \"replace\", \"replace\", \"return\", \"right\", \"right\", \"right\", \"right\", \"sale\", \"sale\", \"samsung\", \"savvy\", \"school\", \"screen\", \"screen\", \"sd\", \"selection\", \"set\", \"set\", \"set\", \"sharp\", \"silk\", \"site\", \"size\", \"slow\", \"small\", \"small\", \"social\", \"son\", \"sound\", \"sound\", \"spend\", \"starter\", \"stop\", \"storage\", \"storage\", \"store\", \"store\", \"streaming\", \"strong\", \"sturdy\", \"subscription\", \"surf\", \"tablet\", \"tablet\", \"tablet\", \"tablet\", \"tablet\", \"take\", \"take\", \"take\", \"take\", \"task\", \"tech\", \"thank\", \"thing\", \"thing\", \"thing\", \"thing\", \"think\", \"think\", \"think\", \"think\", \"time\", \"time\", \"time\", \"time\", \"toddler\", \"tool\", \"transfer\", \"travel\", \"travel\", \"trip\", \"trouble\", \"try\", \"try\", \"turn\", \"turn\", \"tv\", \"underground\", \"upgrade\", \"use\", \"use\", \"use\", \"use\", \"use\", \"user\", \"user\", \"value\", \"variety\", \"video\", \"video\", \"video\", \"want\", \"want\", \"want\", \"want\", \"want\", \"want\", \"warranty\", \"watch\", \"watch\", \"web\", \"web\", \"weight\", \"well\", \"well\", \"well\", \"well\", \"well\", \"wife\", \"wife\", \"wifi\", \"will\", \"win\", \"work\", \"work\", \"work\", \"work\", \"work\", \"work\", \"worth\", \"worth\", \"wrong\", \"year\", \"year\", \"young\", \"yr\"]}, \"R\": 30, \"lambda.step\": 0.01, \"plot.opts\": {\"xlab\": \"PC1\", \"ylab\": \"PC2\"}, \"topic.order\": [3, 1, 4, 5, 2, 6]};\n",
              "\n",
              "function LDAvis_load_lib(url, callback){\n",
              "  var s = document.createElement('script');\n",
              "  s.src = url;\n",
              "  s.async = true;\n",
              "  s.onreadystatechange = s.onload = callback;\n",
              "  s.onerror = function(){console.warn(\"failed to load library \" + url);};\n",
              "  document.getElementsByTagName(\"head\")[0].appendChild(s);\n",
              "}\n",
              "\n",
              "if(typeof(LDAvis) !== \"undefined\"){\n",
              "   // already loaded: just create the visualization\n",
              "   !function(LDAvis){\n",
              "       new LDAvis(\"#\" + \"ldavis_el11641371604056351528444218515\", ldavis_el11641371604056351528444218515_data);\n",
              "   }(LDAvis);\n",
              "}else if(typeof define === \"function\" && define.amd){\n",
              "   // require.js is available: use it to load d3/LDAvis\n",
              "   require.config({paths: {d3: \"https://d3js.org/d3.v5\"}});\n",
              "   require([\"d3\"], function(d3){\n",
              "      window.d3 = d3;\n",
              "      LDAvis_load_lib(\"https://cdn.jsdelivr.net/gh/bmabey/pyLDAvis@3.4.0/pyLDAvis/js/ldavis.v3.0.0.js\", function(){\n",
              "        new LDAvis(\"#\" + \"ldavis_el11641371604056351528444218515\", ldavis_el11641371604056351528444218515_data);\n",
              "      });\n",
              "    });\n",
              "}else{\n",
              "    // require.js not available: dynamically load d3 & LDAvis\n",
              "    LDAvis_load_lib(\"https://d3js.org/d3.v5.js\", function(){\n",
              "         LDAvis_load_lib(\"https://cdn.jsdelivr.net/gh/bmabey/pyLDAvis@3.4.0/pyLDAvis/js/ldavis.v3.0.0.js\", function(){\n",
              "                 new LDAvis(\"#\" + \"ldavis_el11641371604056351528444218515\", ldavis_el11641371604056351528444218515_data);\n",
              "            })\n",
              "         });\n",
              "}\n",
              "</script>"
            ]
          },
          "metadata": {},
          "execution_count": 37
        }
      ]
    },
    {
      "cell_type": "markdown",
      "metadata": {
        "id": "9gie-6YrzGeB"
      },
      "source": [
        "## Create a Topic id/name dictionary\n",
        "\n",
        "When populating your topic id/name dictionary, use the index ordering as shown in the viz tool.\n",
        "\n",
        "We'll use a function to map the the viz tool index ordering with the train LDA model ordering."
      ]
    },
    {
      "cell_type": "code",
      "metadata": {
        "deletable": false,
        "nbgrader": {
          "cell_type": "code",
          "checksum": "fc10e9728e5dcf06baf0800c3cdb88ce",
          "grade": false,
          "grade_id": "cell-4905c0c1050f0d03",
          "locked": false,
          "schema_version": 3,
          "solution": true,
          "task": false
        },
        "id": "88vMiVwQzGeC"
      },
      "source": [
        "# create a dictionary\n",
        "# keys - use topic ids from pyLDAvis visualization\n",
        "# values - topic names that you create\n",
        "# save dictionary to `vis_topic_name_dict`\n",
        "\n",
        "vis_topic_name_dict = {1: 'Kid/Gift/Tablet', 2: 'Problematic Device', 3: 'Kindle Fire', 4: 'Generic Tablet', 5: 'Kid Game/Book/App/Movie/Tablet', 6: 'E-Reader'}"
      ],
      "execution_count": 38,
      "outputs": []
    },
    {
      "cell_type": "code",
      "metadata": {
        "id": "iWLsK27ZzGeC"
      },
      "source": [
        "def get_topic_id_lookup_dict(vis, vis_topic_name_dict):\n",
        "    \"\"\"\n",
        "    Both the starting index and the ordering of topic ids bewteen the trained LDA model\n",
        "    and the viz tool are different. So we need to create a look up dictionary that maps\n",
        "    the correct association between topic ids from both sources.\n",
        "    \"\"\"\n",
        "    # value is order of topic ids accoridng to pyLDAvis tool\n",
        "    # key is order of topic ids according to lda model\n",
        "    model_vis_tool_topic_id_lookup = vis.topic_coordinates.topics.to_dict()\n",
        "\n",
        "    # invert dictionary so that\n",
        "    # key is order of topic ids accoridng to pyLDAvis tool\n",
        "    # value is order of topic ids according to lda model\n",
        "    topic_id_lookup =  {v:k for k, v in model_vis_tool_topic_id_lookup.items()}\n",
        "\n",
        "    return {v:vis_topic_name_dict[k]  for k, v in topic_id_lookup.items()}"
      ],
      "execution_count": 39,
      "outputs": []
    },
    {
      "cell_type": "markdown",
      "metadata": {
        "id": "tR8xm8IG4M0M"
      },
      "source": [
        "Create a topic id/name look up dict\n",
        "that is aligned with the index ordering of the trained LDA model"
      ]
    },
    {
      "cell_type": "code",
      "metadata": {
        "deletable": false,
        "nbgrader": {
          "cell_type": "code",
          "checksum": "55f23aa9324a225091037f0c5daf2192",
          "grade": false,
          "grade_id": "cell-d38acb7b250b4079",
          "locked": false,
          "schema_version": 3,
          "solution": true,
          "task": false
        },
        "id": "dcsa0f_tzGeC"
      },
      "source": [
        "topic_name_dict = get_topic_id_lookup_dict(vis, vis_topic_name_dict)"
      ],
      "execution_count": 40,
      "outputs": []
    },
    {
      "cell_type": "code",
      "metadata": {
        "id": "tbeEkAlC4WNi",
        "outputId": "68176b38-41b7-425f-8792-01808871bccd",
        "colab": {
          "base_uri": "https://localhost:8080/"
        }
      },
      "source": [
        "topic_name_dict"
      ],
      "execution_count": 41,
      "outputs": [
        {
          "output_type": "execute_result",
          "data": {
            "text/plain": [
              "{2: 'Kid/Gift/Tablet',\n",
              " 0: 'Problematic Device',\n",
              " 3: 'Kindle Fire',\n",
              " 4: 'Generic Tablet',\n",
              " 1: 'Kid Game/Book/App/Movie/Tablet',\n",
              " 5: 'E-Reader'}"
            ]
          },
          "metadata": {},
          "execution_count": 41
        }
      ]
    },
    {
      "cell_type": "markdown",
      "metadata": {
        "id": "t4NLAlB9zGeC"
      },
      "source": [
        "## Use the LDA Model to Assign Each Document a Topic Name\n",
        "\n",
        "Now that we have a topic id/name look up dict that is aligned with the index ordering of the trained LDA model, we can move forward to giving each topic a topic name.\n",
        "\n",
        "The function below has been given to you. However, you highly encouraged to read through it and make sure that you understand what it is doing each step of the way. In fact, a good way to do this is to copy and paste the code inside of the function into a new cell, comment out all the lines of code and line by line, uncomment the code and see the output."
      ]
    },
    {
      "cell_type": "code",
      "metadata": {
        "id": "23No1SMKzGeC"
      },
      "source": [
        "def get_topic_ids_for_docs(lda_model, corpus):\n",
        "\n",
        "    \"\"\"\n",
        "    Passes a Bag-of-Words vector into a trained LDA model in order to get the topic id of that document.\n",
        "\n",
        "    Parameters\n",
        "    ----------\n",
        "    lda_model: Gensim object\n",
        "        Must be a trained model\n",
        "\n",
        "    corpus: nested lists of tuples,\n",
        "        i.e. [[(),(), ..., ()], [(),(), ..., ()], ..., [(),(), ..., ()]]\n",
        "\n",
        "    Returns\n",
        "    -------\n",
        "    topic_id_list: list\n",
        "        Contains topic ids for all document vectors in corpus\n",
        "    \"\"\"\n",
        "\n",
        "    # store topic ids for each document\n",
        "    doc_topic_ids = []\n",
        "\n",
        "    # iterature through the bow vectors for each doc\n",
        "    for doc_bow in corpus:\n",
        "\n",
        "        # store the topic ids for the doc\n",
        "        topic_ids = []\n",
        "        # store the topic probabilities for the doc\n",
        "        topic_probs = []\n",
        "\n",
        "        # list of tuples\n",
        "        # each tuple has a topic id and the prob that the doc belongs to that topic\n",
        "        topic_id_prob_tuples = lda_trained_model.get_document_topics(doc_bow)\n",
        "\n",
        "        # iterate through the topic id/prob pairs\n",
        "        for topic_id_prob in topic_id_prob_tuples:\n",
        "\n",
        "            # index for topic id\n",
        "            topic_id = topic_id_prob[0]\n",
        "            # index for prob that doc belongs that the corresponding topic\n",
        "            topic_prob = topic_id_prob[1]\n",
        "\n",
        "            # store all topic ids for doc\n",
        "            topic_ids.append(topic_id)\n",
        "            # store all topic probs for doc\n",
        "            topic_probs.append(topic_prob)\n",
        "\n",
        "        # get the index for the topic that had the highest probability, for the current document\n",
        "        max_topic_prob_ind = np.argmax(topic_probs)\n",
        "        # get the corresponding topic id\n",
        "        max_prob_topic_id = topic_ids[max_topic_prob_ind]\n",
        "        # store the most probable topic id for the current document\n",
        "        doc_topic_ids.append(max_prob_topic_id)\n",
        "\n",
        "    return doc_topic_ids"
      ],
      "execution_count": 42,
      "outputs": []
    },
    {
      "cell_type": "code",
      "metadata": {
        "deletable": false,
        "nbgrader": {
          "cell_type": "code",
          "checksum": "09f2b8ebaf696dc05187cecce8c9e251",
          "grade": false,
          "grade_id": "cell-e28e8774a79ac647",
          "locked": false,
          "schema_version": 3,
          "solution": true,
          "task": false
        },
        "id": "gI94W2MvzGeD"
      },
      "source": [
        "# use get_topic_ids_for_docs to get the topic id for each doc in the corpus - save result to `doc_topic_ids`\n",
        "doc_topic_ids = get_topic_ids_for_docs(lda_model=lda_trained_model, corpus=corpus)\n",
        "\n",
        "# create a new feature in df_electronics called topic_id using `doc_topic_ids`\n",
        "df_electronics['topic_id'] = doc_topic_ids\n",
        "\n",
        "# iterate through topic_id and use the lookup dict `topic_name_dict` to assign each document a topic name\n",
        "# save results to a new feature in df_electronics called `new_topic_name`\n",
        "df_electronics['new_topic_name'] = df_electronics['topic_id'].apply(lambda topic_id: topic_name_dict[topic_id])"
      ],
      "execution_count": 43,
      "outputs": []
    },
    {
      "cell_type": "markdown",
      "metadata": {
        "id": "NZa4oKuIzGeD"
      },
      "source": [
        "## Congratulations! You have created new topic names for your documents."
      ]
    },
    {
      "cell_type": "code",
      "metadata": {
        "id": "kDVAZTa23xkF",
        "outputId": "571d5792-ea2d-4e23-85a7-0073f5930acd",
        "colab": {
          "base_uri": "https://localhost:8080/",
          "height": 520
        }
      },
      "source": [
        "cols = [\"reviews.text\", \"new_topic_name\", \"topic_id\"]\n",
        "df_electronics[cols].head(15)"
      ],
      "execution_count": 44,
      "outputs": [
        {
          "output_type": "execute_result",
          "data": {
            "text/plain": [
              "                                           reviews.text      new_topic_name  \\\n",
              "8343  Great case to keep everything in its place! My...            E-Reader   \n",
              "8344  After discarding and getting rid of broken cd ...  Problematic Device   \n",
              "8345     A few dollars more, but I am boycotting amazon  Problematic Device   \n",
              "8346  My initial impression of this was very good. T...            E-Reader   \n",
              "8347  Pros: Standard Echo. Cons: Older generation Ec...     Kid/Gift/Tablet   \n",
              "8348  Pros: Got it for under 50, much impressive sou...         Kindle Fire   \n",
              "8349  Pros: I love the Alexa series so when this one...  Problematic Device   \n",
              "8350  ASIDE FROM THE FACT THAT THE SCREEN IS SMALL, ...            E-Reader   \n",
              "8351  I wasn't sure I even wanted this item, but cau...  Problematic Device   \n",
              "8352  Pros: Works good like Alexia Cons: setting it ...     Kid/Gift/Tablet   \n",
              "8353  Pros: Relatively easy to setup and works quite...     Kid/Gift/Tablet   \n",
              "8354  Pros: I WOULD recommend anyone who was going t...         Kindle Fire   \n",
              "8355  Pros: Allows you to cut your cable. With many ...         Kindle Fire   \n",
              "8356  Pros: I'm a subscriber to DirectTV Now! So i p...  Problematic Device   \n",
              "8357  Pros: Very satisfied I am about buy online thi...      Generic Tablet   \n",
              "\n",
              "      topic_id  \n",
              "8343         5  \n",
              "8344         0  \n",
              "8345         0  \n",
              "8346         5  \n",
              "8347         2  \n",
              "8348         3  \n",
              "8349         0  \n",
              "8350         5  \n",
              "8351         0  \n",
              "8352         2  \n",
              "8353         2  \n",
              "8354         3  \n",
              "8355         3  \n",
              "8356         0  \n",
              "8357         4  "
            ],
            "text/html": [
              "\n",
              "  <div id=\"df-d6670081-7867-48b8-a13d-7be8e3111b2e\" class=\"colab-df-container\">\n",
              "    <div>\n",
              "<style scoped>\n",
              "    .dataframe tbody tr th:only-of-type {\n",
              "        vertical-align: middle;\n",
              "    }\n",
              "\n",
              "    .dataframe tbody tr th {\n",
              "        vertical-align: top;\n",
              "    }\n",
              "\n",
              "    .dataframe thead th {\n",
              "        text-align: right;\n",
              "    }\n",
              "</style>\n",
              "<table border=\"1\" class=\"dataframe\">\n",
              "  <thead>\n",
              "    <tr style=\"text-align: right;\">\n",
              "      <th></th>\n",
              "      <th>reviews.text</th>\n",
              "      <th>new_topic_name</th>\n",
              "      <th>topic_id</th>\n",
              "    </tr>\n",
              "  </thead>\n",
              "  <tbody>\n",
              "    <tr>\n",
              "      <th>8343</th>\n",
              "      <td>Great case to keep everything in its place! My...</td>\n",
              "      <td>E-Reader</td>\n",
              "      <td>5</td>\n",
              "    </tr>\n",
              "    <tr>\n",
              "      <th>8344</th>\n",
              "      <td>After discarding and getting rid of broken cd ...</td>\n",
              "      <td>Problematic Device</td>\n",
              "      <td>0</td>\n",
              "    </tr>\n",
              "    <tr>\n",
              "      <th>8345</th>\n",
              "      <td>A few dollars more, but I am boycotting amazon</td>\n",
              "      <td>Problematic Device</td>\n",
              "      <td>0</td>\n",
              "    </tr>\n",
              "    <tr>\n",
              "      <th>8346</th>\n",
              "      <td>My initial impression of this was very good. T...</td>\n",
              "      <td>E-Reader</td>\n",
              "      <td>5</td>\n",
              "    </tr>\n",
              "    <tr>\n",
              "      <th>8347</th>\n",
              "      <td>Pros: Standard Echo. Cons: Older generation Ec...</td>\n",
              "      <td>Kid/Gift/Tablet</td>\n",
              "      <td>2</td>\n",
              "    </tr>\n",
              "    <tr>\n",
              "      <th>8348</th>\n",
              "      <td>Pros: Got it for under 50, much impressive sou...</td>\n",
              "      <td>Kindle Fire</td>\n",
              "      <td>3</td>\n",
              "    </tr>\n",
              "    <tr>\n",
              "      <th>8349</th>\n",
              "      <td>Pros: I love the Alexa series so when this one...</td>\n",
              "      <td>Problematic Device</td>\n",
              "      <td>0</td>\n",
              "    </tr>\n",
              "    <tr>\n",
              "      <th>8350</th>\n",
              "      <td>ASIDE FROM THE FACT THAT THE SCREEN IS SMALL, ...</td>\n",
              "      <td>E-Reader</td>\n",
              "      <td>5</td>\n",
              "    </tr>\n",
              "    <tr>\n",
              "      <th>8351</th>\n",
              "      <td>I wasn't sure I even wanted this item, but cau...</td>\n",
              "      <td>Problematic Device</td>\n",
              "      <td>0</td>\n",
              "    </tr>\n",
              "    <tr>\n",
              "      <th>8352</th>\n",
              "      <td>Pros: Works good like Alexia Cons: setting it ...</td>\n",
              "      <td>Kid/Gift/Tablet</td>\n",
              "      <td>2</td>\n",
              "    </tr>\n",
              "    <tr>\n",
              "      <th>8353</th>\n",
              "      <td>Pros: Relatively easy to setup and works quite...</td>\n",
              "      <td>Kid/Gift/Tablet</td>\n",
              "      <td>2</td>\n",
              "    </tr>\n",
              "    <tr>\n",
              "      <th>8354</th>\n",
              "      <td>Pros: I WOULD recommend anyone who was going t...</td>\n",
              "      <td>Kindle Fire</td>\n",
              "      <td>3</td>\n",
              "    </tr>\n",
              "    <tr>\n",
              "      <th>8355</th>\n",
              "      <td>Pros: Allows you to cut your cable. With many ...</td>\n",
              "      <td>Kindle Fire</td>\n",
              "      <td>3</td>\n",
              "    </tr>\n",
              "    <tr>\n",
              "      <th>8356</th>\n",
              "      <td>Pros: I'm a subscriber to DirectTV Now! So i p...</td>\n",
              "      <td>Problematic Device</td>\n",
              "      <td>0</td>\n",
              "    </tr>\n",
              "    <tr>\n",
              "      <th>8357</th>\n",
              "      <td>Pros: Very satisfied I am about buy online thi...</td>\n",
              "      <td>Generic Tablet</td>\n",
              "      <td>4</td>\n",
              "    </tr>\n",
              "  </tbody>\n",
              "</table>\n",
              "</div>\n",
              "    <div class=\"colab-df-buttons\">\n",
              "\n",
              "  <div class=\"colab-df-container\">\n",
              "    <button class=\"colab-df-convert\" onclick=\"convertToInteractive('df-d6670081-7867-48b8-a13d-7be8e3111b2e')\"\n",
              "            title=\"Convert this dataframe to an interactive table.\"\n",
              "            style=\"display:none;\">\n",
              "\n",
              "  <svg xmlns=\"http://www.w3.org/2000/svg\" height=\"24px\" viewBox=\"0 -960 960 960\">\n",
              "    <path d=\"M120-120v-720h720v720H120Zm60-500h600v-160H180v160Zm220 220h160v-160H400v160Zm0 220h160v-160H400v160ZM180-400h160v-160H180v160Zm440 0h160v-160H620v160ZM180-180h160v-160H180v160Zm440 0h160v-160H620v160Z\"/>\n",
              "  </svg>\n",
              "    </button>\n",
              "\n",
              "  <style>\n",
              "    .colab-df-container {\n",
              "      display:flex;\n",
              "      gap: 12px;\n",
              "    }\n",
              "\n",
              "    .colab-df-convert {\n",
              "      background-color: #E8F0FE;\n",
              "      border: none;\n",
              "      border-radius: 50%;\n",
              "      cursor: pointer;\n",
              "      display: none;\n",
              "      fill: #1967D2;\n",
              "      height: 32px;\n",
              "      padding: 0 0 0 0;\n",
              "      width: 32px;\n",
              "    }\n",
              "\n",
              "    .colab-df-convert:hover {\n",
              "      background-color: #E2EBFA;\n",
              "      box-shadow: 0px 1px 2px rgba(60, 64, 67, 0.3), 0px 1px 3px 1px rgba(60, 64, 67, 0.15);\n",
              "      fill: #174EA6;\n",
              "    }\n",
              "\n",
              "    .colab-df-buttons div {\n",
              "      margin-bottom: 4px;\n",
              "    }\n",
              "\n",
              "    [theme=dark] .colab-df-convert {\n",
              "      background-color: #3B4455;\n",
              "      fill: #D2E3FC;\n",
              "    }\n",
              "\n",
              "    [theme=dark] .colab-df-convert:hover {\n",
              "      background-color: #434B5C;\n",
              "      box-shadow: 0px 1px 3px 1px rgba(0, 0, 0, 0.15);\n",
              "      filter: drop-shadow(0px 1px 2px rgba(0, 0, 0, 0.3));\n",
              "      fill: #FFFFFF;\n",
              "    }\n",
              "  </style>\n",
              "\n",
              "    <script>\n",
              "      const buttonEl =\n",
              "        document.querySelector('#df-d6670081-7867-48b8-a13d-7be8e3111b2e button.colab-df-convert');\n",
              "      buttonEl.style.display =\n",
              "        google.colab.kernel.accessAllowed ? 'block' : 'none';\n",
              "\n",
              "      async function convertToInteractive(key) {\n",
              "        const element = document.querySelector('#df-d6670081-7867-48b8-a13d-7be8e3111b2e');\n",
              "        const dataTable =\n",
              "          await google.colab.kernel.invokeFunction('convertToInteractive',\n",
              "                                                    [key], {});\n",
              "        if (!dataTable) return;\n",
              "\n",
              "        const docLinkHtml = 'Like what you see? Visit the ' +\n",
              "          '<a target=\"_blank\" href=https://colab.research.google.com/notebooks/data_table.ipynb>data table notebook</a>'\n",
              "          + ' to learn more about interactive tables.';\n",
              "        element.innerHTML = '';\n",
              "        dataTable['output_type'] = 'display_data';\n",
              "        await google.colab.output.renderOutput(dataTable, element);\n",
              "        const docLink = document.createElement('div');\n",
              "        docLink.innerHTML = docLinkHtml;\n",
              "        element.appendChild(docLink);\n",
              "      }\n",
              "    </script>\n",
              "  </div>\n",
              "\n",
              "\n",
              "    <div id=\"df-2503e402-e9c0-4da0-977d-d436b2453857\">\n",
              "      <button class=\"colab-df-quickchart\" onclick=\"quickchart('df-2503e402-e9c0-4da0-977d-d436b2453857')\"\n",
              "                title=\"Suggest charts\"\n",
              "                style=\"display:none;\">\n",
              "\n",
              "<svg xmlns=\"http://www.w3.org/2000/svg\" height=\"24px\"viewBox=\"0 0 24 24\"\n",
              "     width=\"24px\">\n",
              "    <g>\n",
              "        <path d=\"M19 3H5c-1.1 0-2 .9-2 2v14c0 1.1.9 2 2 2h14c1.1 0 2-.9 2-2V5c0-1.1-.9-2-2-2zM9 17H7v-7h2v7zm4 0h-2V7h2v10zm4 0h-2v-4h2v4z\"/>\n",
              "    </g>\n",
              "</svg>\n",
              "      </button>\n",
              "\n",
              "<style>\n",
              "  .colab-df-quickchart {\n",
              "      --bg-color: #E8F0FE;\n",
              "      --fill-color: #1967D2;\n",
              "      --hover-bg-color: #E2EBFA;\n",
              "      --hover-fill-color: #174EA6;\n",
              "      --disabled-fill-color: #AAA;\n",
              "      --disabled-bg-color: #DDD;\n",
              "  }\n",
              "\n",
              "  [theme=dark] .colab-df-quickchart {\n",
              "      --bg-color: #3B4455;\n",
              "      --fill-color: #D2E3FC;\n",
              "      --hover-bg-color: #434B5C;\n",
              "      --hover-fill-color: #FFFFFF;\n",
              "      --disabled-bg-color: #3B4455;\n",
              "      --disabled-fill-color: #666;\n",
              "  }\n",
              "\n",
              "  .colab-df-quickchart {\n",
              "    background-color: var(--bg-color);\n",
              "    border: none;\n",
              "    border-radius: 50%;\n",
              "    cursor: pointer;\n",
              "    display: none;\n",
              "    fill: var(--fill-color);\n",
              "    height: 32px;\n",
              "    padding: 0;\n",
              "    width: 32px;\n",
              "  }\n",
              "\n",
              "  .colab-df-quickchart:hover {\n",
              "    background-color: var(--hover-bg-color);\n",
              "    box-shadow: 0 1px 2px rgba(60, 64, 67, 0.3), 0 1px 3px 1px rgba(60, 64, 67, 0.15);\n",
              "    fill: var(--button-hover-fill-color);\n",
              "  }\n",
              "\n",
              "  .colab-df-quickchart-complete:disabled,\n",
              "  .colab-df-quickchart-complete:disabled:hover {\n",
              "    background-color: var(--disabled-bg-color);\n",
              "    fill: var(--disabled-fill-color);\n",
              "    box-shadow: none;\n",
              "  }\n",
              "\n",
              "  .colab-df-spinner {\n",
              "    border: 2px solid var(--fill-color);\n",
              "    border-color: transparent;\n",
              "    border-bottom-color: var(--fill-color);\n",
              "    animation:\n",
              "      spin 1s steps(1) infinite;\n",
              "  }\n",
              "\n",
              "  @keyframes spin {\n",
              "    0% {\n",
              "      border-color: transparent;\n",
              "      border-bottom-color: var(--fill-color);\n",
              "      border-left-color: var(--fill-color);\n",
              "    }\n",
              "    20% {\n",
              "      border-color: transparent;\n",
              "      border-left-color: var(--fill-color);\n",
              "      border-top-color: var(--fill-color);\n",
              "    }\n",
              "    30% {\n",
              "      border-color: transparent;\n",
              "      border-left-color: var(--fill-color);\n",
              "      border-top-color: var(--fill-color);\n",
              "      border-right-color: var(--fill-color);\n",
              "    }\n",
              "    40% {\n",
              "      border-color: transparent;\n",
              "      border-right-color: var(--fill-color);\n",
              "      border-top-color: var(--fill-color);\n",
              "    }\n",
              "    60% {\n",
              "      border-color: transparent;\n",
              "      border-right-color: var(--fill-color);\n",
              "    }\n",
              "    80% {\n",
              "      border-color: transparent;\n",
              "      border-right-color: var(--fill-color);\n",
              "      border-bottom-color: var(--fill-color);\n",
              "    }\n",
              "    90% {\n",
              "      border-color: transparent;\n",
              "      border-bottom-color: var(--fill-color);\n",
              "    }\n",
              "  }\n",
              "</style>\n",
              "\n",
              "      <script>\n",
              "        async function quickchart(key) {\n",
              "          const quickchartButtonEl =\n",
              "            document.querySelector('#' + key + ' button');\n",
              "          quickchartButtonEl.disabled = true;  // To prevent multiple clicks.\n",
              "          quickchartButtonEl.classList.add('colab-df-spinner');\n",
              "          try {\n",
              "            const charts = await google.colab.kernel.invokeFunction(\n",
              "                'suggestCharts', [key], {});\n",
              "          } catch (error) {\n",
              "            console.error('Error during call to suggestCharts:', error);\n",
              "          }\n",
              "          quickchartButtonEl.classList.remove('colab-df-spinner');\n",
              "          quickchartButtonEl.classList.add('colab-df-quickchart-complete');\n",
              "        }\n",
              "        (() => {\n",
              "          let quickchartButtonEl =\n",
              "            document.querySelector('#df-2503e402-e9c0-4da0-977d-d436b2453857 button');\n",
              "          quickchartButtonEl.style.display =\n",
              "            google.colab.kernel.accessAllowed ? 'block' : 'none';\n",
              "        })();\n",
              "      </script>\n",
              "    </div>\n",
              "\n",
              "    </div>\n",
              "  </div>\n"
            ],
            "application/vnd.google.colaboratory.intrinsic+json": {
              "type": "dataframe",
              "summary": "{\n  \"name\": \"df_electronics[cols]\",\n  \"rows\": 15,\n  \"fields\": [\n    {\n      \"column\": \"reviews.text\",\n      \"properties\": {\n        \"dtype\": \"string\",\n        \"num_unique_values\": 15,\n        \"samples\": [\n          \"Pros: Works good like Alexia Cons: setting it up is a , HASLE had to call verizon three times Other Thoughts: I WOULD RECOMMEND IT\",\n          \"Pros: I WOULD recommend anyone who was going to purchase anything , newegg is the BEST PLACE TO LOOK ! Cons: No compaints\",\n          \"Great case to keep everything in its place! My husband love it!!!! Holds a lot of cds!\"\n        ],\n        \"semantic_type\": \"\",\n        \"description\": \"\"\n      }\n    },\n    {\n      \"column\": \"new_topic_name\",\n      \"properties\": {\n        \"dtype\": \"category\",\n        \"num_unique_values\": 5,\n        \"samples\": [\n          \"Problematic Device\",\n          \"Generic Tablet\",\n          \"Kid/Gift/Tablet\"\n        ],\n        \"semantic_type\": \"\",\n        \"description\": \"\"\n      }\n    },\n    {\n      \"column\": \"topic_id\",\n      \"properties\": {\n        \"dtype\": \"number\",\n        \"std\": 1,\n        \"min\": 0,\n        \"max\": 5,\n        \"num_unique_values\": 5,\n        \"samples\": [\n          0,\n          4,\n          2\n        ],\n        \"semantic_type\": \"\",\n        \"description\": \"\"\n      }\n    }\n  ]\n}"
            }
          },
          "metadata": {},
          "execution_count": 44
        }
      ]
    },
    {
      "cell_type": "markdown",
      "metadata": {
        "id": "gkYnBihNzGeE"
      },
      "source": [
        "-----\n",
        "# Stretch Goals -- see if you can create a model to classify the reviews into the latent topics you've discovered!\n",
        "\n",
        "\n",
        "- Treat `topic_id` as the `y` (target) vector and train a supervised learning model to predict the topic of each document\n",
        "- Report your results on the Slack channel!"
      ]
    },
    {
      "cell_type": "markdown",
      "metadata": {
        "id": "eqY0KKxKQxbm"
      },
      "source": [
        "## Topic Modeling References\n"
      ]
    },
    {
      "cell_type": "markdown",
      "metadata": {
        "id": "iKhe7u4IXr0y"
      },
      "source": [
        "\n",
        "- [Topic Modeling with Gensim](https://www.tutorialspoint.com/gensim/gensim_topic_modeling.htm) -- Brief Tutorial\n",
        "\n",
        "- [Gensim documentation](https://radimrehurek.com/gensim/index.html) -- look up gensim commands\n",
        "\n",
        "- [`pyLDAvis` documentation](https://pyldavis.readthedocs.io/en/latest/readme.html) -- package for visualizing LDA models\n",
        "\n",
        "- [Visualizing Topic Models](https://speakerdeck.com/bmabey/visualizing-topic-models) -- slides from Ben Mabey\n",
        "\n",
        "- [Exploring the Space of Topic Coherence Measures](https://dl.acm.org/doi/10.1145/2684822.2685324) -- Study of Topic Coherence measures\n",
        "\n",
        "- [Exploring Topic Coherence over many models and many topics](https://www.researchgate.net/publication/232242203_Exploring_Topic_Coherence_over_many_models_and_many_topics) -- Study of automated topic coherence measures"
      ]
    }
  ]
}